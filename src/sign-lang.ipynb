{
 "cells": [
  {
   "cell_type": "code",
   "execution_count": 1,
   "metadata": {
    "id": "u8ZjfqGj-Peu"
   },
   "outputs": [],
   "source": [
    "from sklearn.metrics import classification_report\n",
    "from torch.utils.data import DataLoader, Subset, TensorDataset\n",
    "import itertools\n",
    "from  torchvision.transforms import InterpolationMode\n",
    "from sklearn.model_selection import train_test_split  "
   ]
  },
  {
   "cell_type": "code",
   "execution_count": 2,
   "metadata": {},
   "outputs": [],
   "source": [
    "from functions import *\n",
    "from CustomDataset import CustomDataset"
   ]
  },
  {
   "cell_type": "markdown",
   "metadata": {
    "id": "dYtDrXyA_rqS"
   },
   "source": [
    "Defining some globals with the path to both files you just downloaded:"
   ]
  },
  {
   "cell_type": "code",
   "execution_count": 3,
   "metadata": {
    "id": "1hYUS4cw_tpb"
   },
   "outputs": [],
   "source": [
    "TRAIN_DATA_PATH = '../dataset/sign_mnist_train/sign_mnist_train.csv'\n",
    "TEST_DATA_PATH = '../dataset/sign_mnist_test/sign_mnist_test.csv'\n",
    "\n",
    "RANDOM_SEED = 30"
   ]
  },
  {
   "cell_type": "code",
   "execution_count": 4,
   "metadata": {},
   "outputs": [],
   "source": [
    "DEVICE = torch.device(\"cuda:0\" if torch.cuda.is_available() else \"cpu\")"
   ]
  },
  {
   "cell_type": "code",
   "execution_count": 5,
   "metadata": {},
   "outputs": [
    {
     "name": "stdout",
     "output_type": "stream",
     "text": [
      "Using device: cpu\n"
     ]
    }
   ],
   "source": [
    "print(\"Using device: {}\".format(DEVICE))"
   ]
  },
  {
   "cell_type": "markdown",
   "metadata": {
    "id": "4y6PkPHk_obW"
   },
   "source": [
    "Taking a look at how the data looks like within the csv file:"
   ]
  },
  {
   "cell_type": "code",
   "execution_count": 6,
   "metadata": {
    "colab": {
     "base_uri": "https://localhost:8080/"
    },
    "id": "2nbDpSAE_z9Q",
    "outputId": "662005fb-c95b-4510-a4a5-a6a5f7f0345e"
   },
   "outputs": [
    {
     "name": "stdout",
     "output_type": "stream",
     "text": [
      "First line (header) looks like this:\n",
      "label,pixel1,pixel2,pixel3,pixel4,pixel5,pixel6,pixel7,pixel8,pixel9,pixel10,pixel11,pixel12,pixel13,pixel14,pixel15,pixel16,pixel17,pixel18,pixel19,pixel20,pixel21,pixel22,pixel23,pixel24,pixel25,pixel26,pixel27,pixel28,pixel29,pixel30,pixel31,pixel32,pixel33,pixel34,pixel35,pixel36,pixel37,pixel38,pixel39,pixel40,pixel41,pixel42,pixel43,pixel44,pixel45,pixel46,pixel47,pixel48,pixel49,pixel50,pixel51,pixel52,pixel53,pixel54,pixel55,pixel56,pixel57,pixel58,pixel59,pixel60,pixel61,pixel62,pixel63,pixel64,pixel65,pixel66,pixel67,pixel68,pixel69,pixel70,pixel71,pixel72,pixel73,pixel74,pixel75,pixel76,pixel77,pixel78,pixel79,pixel80,pixel81,pixel82,pixel83,pixel84,pixel85,pixel86,pixel87,pixel88,pixel89,pixel90,pixel91,pixel92,pixel93,pixel94,pixel95,pixel96,pixel97,pixel98,pixel99,pixel100,pixel101,pixel102,pixel103,pixel104,pixel105,pixel106,pixel107,pixel108,pixel109,pixel110,pixel111,pixel112,pixel113,pixel114,pixel115,pixel116,pixel117,pixel118,pixel119,pixel120,pixel121,pixel122,pixel123,pixel124,pixel125,pixel126,pixel127,pixel128,pixel129,pixel130,pixel131,pixel132,pixel133,pixel134,pixel135,pixel136,pixel137,pixel138,pixel139,pixel140,pixel141,pixel142,pixel143,pixel144,pixel145,pixel146,pixel147,pixel148,pixel149,pixel150,pixel151,pixel152,pixel153,pixel154,pixel155,pixel156,pixel157,pixel158,pixel159,pixel160,pixel161,pixel162,pixel163,pixel164,pixel165,pixel166,pixel167,pixel168,pixel169,pixel170,pixel171,pixel172,pixel173,pixel174,pixel175,pixel176,pixel177,pixel178,pixel179,pixel180,pixel181,pixel182,pixel183,pixel184,pixel185,pixel186,pixel187,pixel188,pixel189,pixel190,pixel191,pixel192,pixel193,pixel194,pixel195,pixel196,pixel197,pixel198,pixel199,pixel200,pixel201,pixel202,pixel203,pixel204,pixel205,pixel206,pixel207,pixel208,pixel209,pixel210,pixel211,pixel212,pixel213,pixel214,pixel215,pixel216,pixel217,pixel218,pixel219,pixel220,pixel221,pixel222,pixel223,pixel224,pixel225,pixel226,pixel227,pixel228,pixel229,pixel230,pixel231,pixel232,pixel233,pixel234,pixel235,pixel236,pixel237,pixel238,pixel239,pixel240,pixel241,pixel242,pixel243,pixel244,pixel245,pixel246,pixel247,pixel248,pixel249,pixel250,pixel251,pixel252,pixel253,pixel254,pixel255,pixel256,pixel257,pixel258,pixel259,pixel260,pixel261,pixel262,pixel263,pixel264,pixel265,pixel266,pixel267,pixel268,pixel269,pixel270,pixel271,pixel272,pixel273,pixel274,pixel275,pixel276,pixel277,pixel278,pixel279,pixel280,pixel281,pixel282,pixel283,pixel284,pixel285,pixel286,pixel287,pixel288,pixel289,pixel290,pixel291,pixel292,pixel293,pixel294,pixel295,pixel296,pixel297,pixel298,pixel299,pixel300,pixel301,pixel302,pixel303,pixel304,pixel305,pixel306,pixel307,pixel308,pixel309,pixel310,pixel311,pixel312,pixel313,pixel314,pixel315,pixel316,pixel317,pixel318,pixel319,pixel320,pixel321,pixel322,pixel323,pixel324,pixel325,pixel326,pixel327,pixel328,pixel329,pixel330,pixel331,pixel332,pixel333,pixel334,pixel335,pixel336,pixel337,pixel338,pixel339,pixel340,pixel341,pixel342,pixel343,pixel344,pixel345,pixel346,pixel347,pixel348,pixel349,pixel350,pixel351,pixel352,pixel353,pixel354,pixel355,pixel356,pixel357,pixel358,pixel359,pixel360,pixel361,pixel362,pixel363,pixel364,pixel365,pixel366,pixel367,pixel368,pixel369,pixel370,pixel371,pixel372,pixel373,pixel374,pixel375,pixel376,pixel377,pixel378,pixel379,pixel380,pixel381,pixel382,pixel383,pixel384,pixel385,pixel386,pixel387,pixel388,pixel389,pixel390,pixel391,pixel392,pixel393,pixel394,pixel395,pixel396,pixel397,pixel398,pixel399,pixel400,pixel401,pixel402,pixel403,pixel404,pixel405,pixel406,pixel407,pixel408,pixel409,pixel410,pixel411,pixel412,pixel413,pixel414,pixel415,pixel416,pixel417,pixel418,pixel419,pixel420,pixel421,pixel422,pixel423,pixel424,pixel425,pixel426,pixel427,pixel428,pixel429,pixel430,pixel431,pixel432,pixel433,pixel434,pixel435,pixel436,pixel437,pixel438,pixel439,pixel440,pixel441,pixel442,pixel443,pixel444,pixel445,pixel446,pixel447,pixel448,pixel449,pixel450,pixel451,pixel452,pixel453,pixel454,pixel455,pixel456,pixel457,pixel458,pixel459,pixel460,pixel461,pixel462,pixel463,pixel464,pixel465,pixel466,pixel467,pixel468,pixel469,pixel470,pixel471,pixel472,pixel473,pixel474,pixel475,pixel476,pixel477,pixel478,pixel479,pixel480,pixel481,pixel482,pixel483,pixel484,pixel485,pixel486,pixel487,pixel488,pixel489,pixel490,pixel491,pixel492,pixel493,pixel494,pixel495,pixel496,pixel497,pixel498,pixel499,pixel500,pixel501,pixel502,pixel503,pixel504,pixel505,pixel506,pixel507,pixel508,pixel509,pixel510,pixel511,pixel512,pixel513,pixel514,pixel515,pixel516,pixel517,pixel518,pixel519,pixel520,pixel521,pixel522,pixel523,pixel524,pixel525,pixel526,pixel527,pixel528,pixel529,pixel530,pixel531,pixel532,pixel533,pixel534,pixel535,pixel536,pixel537,pixel538,pixel539,pixel540,pixel541,pixel542,pixel543,pixel544,pixel545,pixel546,pixel547,pixel548,pixel549,pixel550,pixel551,pixel552,pixel553,pixel554,pixel555,pixel556,pixel557,pixel558,pixel559,pixel560,pixel561,pixel562,pixel563,pixel564,pixel565,pixel566,pixel567,pixel568,pixel569,pixel570,pixel571,pixel572,pixel573,pixel574,pixel575,pixel576,pixel577,pixel578,pixel579,pixel580,pixel581,pixel582,pixel583,pixel584,pixel585,pixel586,pixel587,pixel588,pixel589,pixel590,pixel591,pixel592,pixel593,pixel594,pixel595,pixel596,pixel597,pixel598,pixel599,pixel600,pixel601,pixel602,pixel603,pixel604,pixel605,pixel606,pixel607,pixel608,pixel609,pixel610,pixel611,pixel612,pixel613,pixel614,pixel615,pixel616,pixel617,pixel618,pixel619,pixel620,pixel621,pixel622,pixel623,pixel624,pixel625,pixel626,pixel627,pixel628,pixel629,pixel630,pixel631,pixel632,pixel633,pixel634,pixel635,pixel636,pixel637,pixel638,pixel639,pixel640,pixel641,pixel642,pixel643,pixel644,pixel645,pixel646,pixel647,pixel648,pixel649,pixel650,pixel651,pixel652,pixel653,pixel654,pixel655,pixel656,pixel657,pixel658,pixel659,pixel660,pixel661,pixel662,pixel663,pixel664,pixel665,pixel666,pixel667,pixel668,pixel669,pixel670,pixel671,pixel672,pixel673,pixel674,pixel675,pixel676,pixel677,pixel678,pixel679,pixel680,pixel681,pixel682,pixel683,pixel684,pixel685,pixel686,pixel687,pixel688,pixel689,pixel690,pixel691,pixel692,pixel693,pixel694,pixel695,pixel696,pixel697,pixel698,pixel699,pixel700,pixel701,pixel702,pixel703,pixel704,pixel705,pixel706,pixel707,pixel708,pixel709,pixel710,pixel711,pixel712,pixel713,pixel714,pixel715,pixel716,pixel717,pixel718,pixel719,pixel720,pixel721,pixel722,pixel723,pixel724,pixel725,pixel726,pixel727,pixel728,pixel729,pixel730,pixel731,pixel732,pixel733,pixel734,pixel735,pixel736,pixel737,pixel738,pixel739,pixel740,pixel741,pixel742,pixel743,pixel744,pixel745,pixel746,pixel747,pixel748,pixel749,pixel750,pixel751,pixel752,pixel753,pixel754,pixel755,pixel756,pixel757,pixel758,pixel759,pixel760,pixel761,pixel762,pixel763,pixel764,pixel765,pixel766,pixel767,pixel768,pixel769,pixel770,pixel771,pixel772,pixel773,pixel774,pixel775,pixel776,pixel777,pixel778,pixel779,pixel780,pixel781,pixel782,pixel783,pixel784\n",
      "\n",
      "Each subsequent line (data points) look like this:\n",
      "3,107,118,127,134,139,143,146,150,153,156,158,160,163,165,159,166,168,170,170,171,171,171,172,171,171,170,170,169,111,121,129,135,141,144,148,151,154,157,160,163,164,170,119,152,171,171,170,171,172,172,172,172,172,171,171,170,113,123,131,137,142,145,150,152,155,158,161,163,164,172,105,142,170,171,171,171,172,172,173,173,172,171,171,171,116,125,133,139,143,146,151,153,156,159,162,163,167,167,95,144,171,172,172,172,172,172,173,173,173,172,172,171,117,126,134,140,145,149,153,156,158,161,163,164,175,156,87,154,172,173,173,173,173,173,174,174,174,173,172,172,119,128,136,142,146,150,153,156,159,163,165,164,184,148,89,164,172,174,174,174,174,175,175,174,175,174,173,173,122,130,138,143,147,150,154,158,162,165,166,172,181,128,94,170,173,175,174,175,176,177,177,177,177,175,175,174,122,132,139,145,149,152,156,160,163,165,166,181,172,103,113,175,176,178,178,179,179,179,179,178,179,177,175,174,125,134,141,147,150,153,157,161,164,167,168,184,179,116,126,165,176,179,180,180,181,180,180,180,179,178,177,176,128,135,142,148,152,154,158,162,165,168,170,187,180,156,161,124,143,179,178,178,181,182,181,180,181,180,179,179,129,136,144,150,153,155,159,163,166,169,172,187,184,153,102,117,110,175,169,154,182,183,183,182,182,181,181,179,131,138,145,150,155,157,161,165,168,174,190,189,175,146,94,97,113,151,158,129,184,184,184,184,183,183,182,180,131,139,146,151,155,159,163,167,175,182,179,171,159,114,102,89,121,136,136,96,172,186,186,185,185,184,182,181,131,140,147,154,157,160,164,179,186,191,187,180,157,100,88,84,108,111,126,90,120,186,187,187,186,185,184,182,133,141,149,155,158,160,174,201,189,165,151,143,146,120,87,78,87,76,108,98,96,181,188,187,186,186,185,183,133,141,150,156,160,161,179,197,174,135,99,72,95,134,97,72,74,68,116,105,108,187,189,187,187,186,186,185,134,143,151,156,161,163,179,194,156,110,74,42,52,139,94,67,75,75,118,106,129,189,191,190,188,188,187,186,135,144,152,158,163,163,177,193,161,122,84,43,71,134,81,57,71,88,112,98,157,193,193,192,190,190,189,188,136,144,152,158,162,163,176,192,164,128,98,62,60,100,71,76,96,101,105,95,174,195,194,194,194,193,191,190,137,145,152,159,164,165,178,191,164,135,113,82,59,87,98,111,120,108,97,108,190,196,195,195,194,193,193,192,139,146,154,160,164,165,175,186,163,139,112,85,67,102,126,133,126,105,104,176,197,198,197,196,195,195,194,193,138,147,155,161,165,167,172,186,163,137,107,87,76,106,122,125,117,96,156,199,199,200,198,196,196,195,195,194,139,148,156,163,166,168,172,180,158,131,108,99,86,108,118,116,103,107,191,202,201,200,200,200,199,197,198,196,140,149,157,164,168,167,177,178,155,131,118,105,87,100,106,100,96,164,202,202,202,202,202,201,200,199,199,198,140,150,157,165,167,170,181,175,152,130,115,98,82,85,90,99,165,202,203,204,203,203,202,202,201,201,200,200,142,150,159,165,170,191,173,157,144,119,97,84,79,79,91,172,202,203,203,205,204,204,204,203,202,202,201,200,142,151,160,165,188,190,187,150,119,109,85,79,79,78,137,203,205,206,206,207,207,206,206,204,205,204,203,202,142,151,160,172,196,188,188,190,135,96,86,77,77,79,176,205,207,207,207,207,207,207,206,206,206,204,203,202\n",
      "\n"
     ]
    }
   ],
   "source": [
    "with open(TRAIN_DATA_PATH) as training_file:\n",
    "  line = training_file.readline()\n",
    "  print(f\"First line (header) looks like this:\\n{line}\")\n",
    "  line = training_file.readline()\n",
    "  print(f\"Each subsequent line (data points) look like this:\\n{line}\")"
   ]
  },
  {
   "cell_type": "markdown",
   "metadata": {
    "id": "3BXAMhJR_2AA"
   },
   "source": [
    "Each file includes a header (the first line) and each subsequent data point is represented as a line that contains 785 values.\n",
    "\n",
    "The first value is the label (the numeric representation of each letter) and the other 784 values are the value of each pixel of the image.\n",
    "The original images have a resolution of 28x28, which sums up to 784 pixels."
   ]
  },
  {
   "cell_type": "markdown",
   "metadata": {},
   "source": [
    "### Read the dataset\n"
   ]
  },
  {
   "cell_type": "code",
   "execution_count": 7,
   "metadata": {},
   "outputs": [
    {
     "data": {
      "text/html": [
       "<div>\n",
       "<style scoped>\n",
       "    .dataframe tbody tr th:only-of-type {\n",
       "        vertical-align: middle;\n",
       "    }\n",
       "\n",
       "    .dataframe tbody tr th {\n",
       "        vertical-align: top;\n",
       "    }\n",
       "\n",
       "    .dataframe thead th {\n",
       "        text-align: right;\n",
       "    }\n",
       "</style>\n",
       "<table border=\"1\" class=\"dataframe\">\n",
       "  <thead>\n",
       "    <tr style=\"text-align: right;\">\n",
       "      <th></th>\n",
       "      <th>label</th>\n",
       "      <th>pixel1</th>\n",
       "      <th>pixel2</th>\n",
       "      <th>pixel3</th>\n",
       "      <th>pixel4</th>\n",
       "      <th>pixel5</th>\n",
       "      <th>pixel6</th>\n",
       "      <th>pixel7</th>\n",
       "      <th>pixel8</th>\n",
       "      <th>pixel9</th>\n",
       "      <th>...</th>\n",
       "      <th>pixel775</th>\n",
       "      <th>pixel776</th>\n",
       "      <th>pixel777</th>\n",
       "      <th>pixel778</th>\n",
       "      <th>pixel779</th>\n",
       "      <th>pixel780</th>\n",
       "      <th>pixel781</th>\n",
       "      <th>pixel782</th>\n",
       "      <th>pixel783</th>\n",
       "      <th>pixel784</th>\n",
       "    </tr>\n",
       "  </thead>\n",
       "  <tbody>\n",
       "    <tr>\n",
       "      <th>0</th>\n",
       "      <td>3</td>\n",
       "      <td>107</td>\n",
       "      <td>118</td>\n",
       "      <td>127</td>\n",
       "      <td>134</td>\n",
       "      <td>139</td>\n",
       "      <td>143</td>\n",
       "      <td>146</td>\n",
       "      <td>150</td>\n",
       "      <td>153</td>\n",
       "      <td>...</td>\n",
       "      <td>207</td>\n",
       "      <td>207</td>\n",
       "      <td>207</td>\n",
       "      <td>207</td>\n",
       "      <td>206</td>\n",
       "      <td>206</td>\n",
       "      <td>206</td>\n",
       "      <td>204</td>\n",
       "      <td>203</td>\n",
       "      <td>202</td>\n",
       "    </tr>\n",
       "    <tr>\n",
       "      <th>1</th>\n",
       "      <td>6</td>\n",
       "      <td>155</td>\n",
       "      <td>157</td>\n",
       "      <td>156</td>\n",
       "      <td>156</td>\n",
       "      <td>156</td>\n",
       "      <td>157</td>\n",
       "      <td>156</td>\n",
       "      <td>158</td>\n",
       "      <td>158</td>\n",
       "      <td>...</td>\n",
       "      <td>69</td>\n",
       "      <td>149</td>\n",
       "      <td>128</td>\n",
       "      <td>87</td>\n",
       "      <td>94</td>\n",
       "      <td>163</td>\n",
       "      <td>175</td>\n",
       "      <td>103</td>\n",
       "      <td>135</td>\n",
       "      <td>149</td>\n",
       "    </tr>\n",
       "    <tr>\n",
       "      <th>2</th>\n",
       "      <td>2</td>\n",
       "      <td>187</td>\n",
       "      <td>188</td>\n",
       "      <td>188</td>\n",
       "      <td>187</td>\n",
       "      <td>187</td>\n",
       "      <td>186</td>\n",
       "      <td>187</td>\n",
       "      <td>188</td>\n",
       "      <td>187</td>\n",
       "      <td>...</td>\n",
       "      <td>202</td>\n",
       "      <td>201</td>\n",
       "      <td>200</td>\n",
       "      <td>199</td>\n",
       "      <td>198</td>\n",
       "      <td>199</td>\n",
       "      <td>198</td>\n",
       "      <td>195</td>\n",
       "      <td>194</td>\n",
       "      <td>195</td>\n",
       "    </tr>\n",
       "    <tr>\n",
       "      <th>3</th>\n",
       "      <td>2</td>\n",
       "      <td>211</td>\n",
       "      <td>211</td>\n",
       "      <td>212</td>\n",
       "      <td>212</td>\n",
       "      <td>211</td>\n",
       "      <td>210</td>\n",
       "      <td>211</td>\n",
       "      <td>210</td>\n",
       "      <td>210</td>\n",
       "      <td>...</td>\n",
       "      <td>235</td>\n",
       "      <td>234</td>\n",
       "      <td>233</td>\n",
       "      <td>231</td>\n",
       "      <td>230</td>\n",
       "      <td>226</td>\n",
       "      <td>225</td>\n",
       "      <td>222</td>\n",
       "      <td>229</td>\n",
       "      <td>163</td>\n",
       "    </tr>\n",
       "    <tr>\n",
       "      <th>4</th>\n",
       "      <td>13</td>\n",
       "      <td>164</td>\n",
       "      <td>167</td>\n",
       "      <td>170</td>\n",
       "      <td>172</td>\n",
       "      <td>176</td>\n",
       "      <td>179</td>\n",
       "      <td>180</td>\n",
       "      <td>184</td>\n",
       "      <td>185</td>\n",
       "      <td>...</td>\n",
       "      <td>92</td>\n",
       "      <td>105</td>\n",
       "      <td>105</td>\n",
       "      <td>108</td>\n",
       "      <td>133</td>\n",
       "      <td>163</td>\n",
       "      <td>157</td>\n",
       "      <td>163</td>\n",
       "      <td>164</td>\n",
       "      <td>179</td>\n",
       "    </tr>\n",
       "  </tbody>\n",
       "</table>\n",
       "<p>5 rows × 785 columns</p>\n",
       "</div>"
      ],
      "text/plain": [
       "   label  pixel1  pixel2  pixel3  pixel4  pixel5  pixel6  pixel7  pixel8  \\\n",
       "0      3     107     118     127     134     139     143     146     150   \n",
       "1      6     155     157     156     156     156     157     156     158   \n",
       "2      2     187     188     188     187     187     186     187     188   \n",
       "3      2     211     211     212     212     211     210     211     210   \n",
       "4     13     164     167     170     172     176     179     180     184   \n",
       "\n",
       "   pixel9  ...  pixel775  pixel776  pixel777  pixel778  pixel779  pixel780  \\\n",
       "0     153  ...       207       207       207       207       206       206   \n",
       "1     158  ...        69       149       128        87        94       163   \n",
       "2     187  ...       202       201       200       199       198       199   \n",
       "3     210  ...       235       234       233       231       230       226   \n",
       "4     185  ...        92       105       105       108       133       163   \n",
       "\n",
       "   pixel781  pixel782  pixel783  pixel784  \n",
       "0       206       204       203       202  \n",
       "1       175       103       135       149  \n",
       "2       198       195       194       195  \n",
       "3       225       222       229       163  \n",
       "4       157       163       164       179  \n",
       "\n",
       "[5 rows x 785 columns]"
      ]
     },
     "execution_count": 7,
     "metadata": {},
     "output_type": "execute_result"
    }
   ],
   "source": [
    "train_df = pd.read_csv(TRAIN_DATA_PATH)\n",
    "train_df.head()"
   ]
  },
  {
   "cell_type": "code",
   "execution_count": 8,
   "metadata": {},
   "outputs": [
    {
     "data": {
      "text/html": [
       "<div>\n",
       "<style scoped>\n",
       "    .dataframe tbody tr th:only-of-type {\n",
       "        vertical-align: middle;\n",
       "    }\n",
       "\n",
       "    .dataframe tbody tr th {\n",
       "        vertical-align: top;\n",
       "    }\n",
       "\n",
       "    .dataframe thead th {\n",
       "        text-align: right;\n",
       "    }\n",
       "</style>\n",
       "<table border=\"1\" class=\"dataframe\">\n",
       "  <thead>\n",
       "    <tr style=\"text-align: right;\">\n",
       "      <th></th>\n",
       "      <th>label</th>\n",
       "      <th>pixel1</th>\n",
       "      <th>pixel2</th>\n",
       "      <th>pixel3</th>\n",
       "      <th>pixel4</th>\n",
       "      <th>pixel5</th>\n",
       "      <th>pixel6</th>\n",
       "      <th>pixel7</th>\n",
       "      <th>pixel8</th>\n",
       "      <th>pixel9</th>\n",
       "      <th>...</th>\n",
       "      <th>pixel775</th>\n",
       "      <th>pixel776</th>\n",
       "      <th>pixel777</th>\n",
       "      <th>pixel778</th>\n",
       "      <th>pixel779</th>\n",
       "      <th>pixel780</th>\n",
       "      <th>pixel781</th>\n",
       "      <th>pixel782</th>\n",
       "      <th>pixel783</th>\n",
       "      <th>pixel784</th>\n",
       "    </tr>\n",
       "  </thead>\n",
       "  <tbody>\n",
       "    <tr>\n",
       "      <th>0</th>\n",
       "      <td>6</td>\n",
       "      <td>149</td>\n",
       "      <td>149</td>\n",
       "      <td>150</td>\n",
       "      <td>150</td>\n",
       "      <td>150</td>\n",
       "      <td>151</td>\n",
       "      <td>151</td>\n",
       "      <td>150</td>\n",
       "      <td>151</td>\n",
       "      <td>...</td>\n",
       "      <td>138</td>\n",
       "      <td>148</td>\n",
       "      <td>127</td>\n",
       "      <td>89</td>\n",
       "      <td>82</td>\n",
       "      <td>96</td>\n",
       "      <td>106</td>\n",
       "      <td>112</td>\n",
       "      <td>120</td>\n",
       "      <td>107</td>\n",
       "    </tr>\n",
       "    <tr>\n",
       "      <th>1</th>\n",
       "      <td>5</td>\n",
       "      <td>126</td>\n",
       "      <td>128</td>\n",
       "      <td>131</td>\n",
       "      <td>132</td>\n",
       "      <td>133</td>\n",
       "      <td>134</td>\n",
       "      <td>135</td>\n",
       "      <td>135</td>\n",
       "      <td>136</td>\n",
       "      <td>...</td>\n",
       "      <td>47</td>\n",
       "      <td>104</td>\n",
       "      <td>194</td>\n",
       "      <td>183</td>\n",
       "      <td>186</td>\n",
       "      <td>184</td>\n",
       "      <td>184</td>\n",
       "      <td>184</td>\n",
       "      <td>182</td>\n",
       "      <td>180</td>\n",
       "    </tr>\n",
       "    <tr>\n",
       "      <th>2</th>\n",
       "      <td>10</td>\n",
       "      <td>85</td>\n",
       "      <td>88</td>\n",
       "      <td>92</td>\n",
       "      <td>96</td>\n",
       "      <td>105</td>\n",
       "      <td>123</td>\n",
       "      <td>135</td>\n",
       "      <td>143</td>\n",
       "      <td>147</td>\n",
       "      <td>...</td>\n",
       "      <td>68</td>\n",
       "      <td>166</td>\n",
       "      <td>242</td>\n",
       "      <td>227</td>\n",
       "      <td>230</td>\n",
       "      <td>227</td>\n",
       "      <td>226</td>\n",
       "      <td>225</td>\n",
       "      <td>224</td>\n",
       "      <td>222</td>\n",
       "    </tr>\n",
       "    <tr>\n",
       "      <th>3</th>\n",
       "      <td>0</td>\n",
       "      <td>203</td>\n",
       "      <td>205</td>\n",
       "      <td>207</td>\n",
       "      <td>206</td>\n",
       "      <td>207</td>\n",
       "      <td>209</td>\n",
       "      <td>210</td>\n",
       "      <td>209</td>\n",
       "      <td>210</td>\n",
       "      <td>...</td>\n",
       "      <td>154</td>\n",
       "      <td>248</td>\n",
       "      <td>247</td>\n",
       "      <td>248</td>\n",
       "      <td>253</td>\n",
       "      <td>236</td>\n",
       "      <td>230</td>\n",
       "      <td>240</td>\n",
       "      <td>253</td>\n",
       "      <td>255</td>\n",
       "    </tr>\n",
       "    <tr>\n",
       "      <th>4</th>\n",
       "      <td>3</td>\n",
       "      <td>188</td>\n",
       "      <td>191</td>\n",
       "      <td>193</td>\n",
       "      <td>195</td>\n",
       "      <td>199</td>\n",
       "      <td>201</td>\n",
       "      <td>202</td>\n",
       "      <td>203</td>\n",
       "      <td>203</td>\n",
       "      <td>...</td>\n",
       "      <td>26</td>\n",
       "      <td>40</td>\n",
       "      <td>64</td>\n",
       "      <td>48</td>\n",
       "      <td>29</td>\n",
       "      <td>46</td>\n",
       "      <td>49</td>\n",
       "      <td>46</td>\n",
       "      <td>46</td>\n",
       "      <td>53</td>\n",
       "    </tr>\n",
       "  </tbody>\n",
       "</table>\n",
       "<p>5 rows × 785 columns</p>\n",
       "</div>"
      ],
      "text/plain": [
       "   label  pixel1  pixel2  pixel3  pixel4  pixel5  pixel6  pixel7  pixel8  \\\n",
       "0      6     149     149     150     150     150     151     151     150   \n",
       "1      5     126     128     131     132     133     134     135     135   \n",
       "2     10      85      88      92      96     105     123     135     143   \n",
       "3      0     203     205     207     206     207     209     210     209   \n",
       "4      3     188     191     193     195     199     201     202     203   \n",
       "\n",
       "   pixel9  ...  pixel775  pixel776  pixel777  pixel778  pixel779  pixel780  \\\n",
       "0     151  ...       138       148       127        89        82        96   \n",
       "1     136  ...        47       104       194       183       186       184   \n",
       "2     147  ...        68       166       242       227       230       227   \n",
       "3     210  ...       154       248       247       248       253       236   \n",
       "4     203  ...        26        40        64        48        29        46   \n",
       "\n",
       "   pixel781  pixel782  pixel783  pixel784  \n",
       "0       106       112       120       107  \n",
       "1       184       184       182       180  \n",
       "2       226       225       224       222  \n",
       "3       230       240       253       255  \n",
       "4        49        46        46        53  \n",
       "\n",
       "[5 rows x 785 columns]"
      ]
     },
     "execution_count": 8,
     "metadata": {},
     "output_type": "execute_result"
    }
   ],
   "source": [
    "test_df = pd.read_csv(TEST_DATA_PATH)\n",
    "test_df.head()"
   ]
  },
  {
   "cell_type": "markdown",
   "metadata": {},
   "source": [
    "### Saving 10% fraction as new input"
   ]
  },
  {
   "cell_type": "code",
   "execution_count": 9,
   "metadata": {},
   "outputs": [],
   "source": [
    "# Split the data into 90% and 10%  \n",
    "#test_df, new_fraction = train_test_split(test_df, test_size=0.1, random_state=RANDOM_SEED)  \n",
    "  \n",
    "# Save the 10% data to a new file  \n",
    "#new_fraction.to_csv('../dataset/sign_mnist_test_new.csv', index=False)  "
   ]
  },
  {
   "cell_type": "code",
   "execution_count": 10,
   "metadata": {},
   "outputs": [
    {
     "data": {
      "text/plain": [
       "(27455, 785)"
      ]
     },
     "execution_count": 10,
     "metadata": {},
     "output_type": "execute_result"
    }
   ],
   "source": [
    "train_df.shape"
   ]
  },
  {
   "cell_type": "code",
   "execution_count": 11,
   "metadata": {},
   "outputs": [
    {
     "data": {
      "text/plain": [
       "(7172, 785)"
      ]
     },
     "execution_count": 11,
     "metadata": {},
     "output_type": "execute_result"
    }
   ],
   "source": [
    "test_df.shape"
   ]
  },
  {
   "cell_type": "code",
   "execution_count": 12,
   "metadata": {},
   "outputs": [
    {
     "data": {
      "text/plain": [
       "array([ 0,  1,  2,  3,  4,  5,  6,  7,  8, 10, 11, 12, 13, 14, 15, 16, 17,\n",
       "       18, 19, 20, 21, 22, 23, 24])"
      ]
     },
     "execution_count": 12,
     "metadata": {},
     "output_type": "execute_result"
    }
   ],
   "source": [
    "# Displaying class labels (training data)\n",
    "np.unique(train_df[\"label\"].values)"
   ]
  },
  {
   "cell_type": "code",
   "execution_count": 13,
   "metadata": {},
   "outputs": [
    {
     "data": {
      "text/plain": [
       "array([ 0,  1,  2,  3,  4,  5,  6,  7,  8, 10, 11, 12, 13, 14, 15, 16, 17,\n",
       "       18, 19, 20, 21, 22, 23, 24])"
      ]
     },
     "execution_count": 13,
     "metadata": {},
     "output_type": "execute_result"
    }
   ],
   "source": [
    "# Displaying class labels (test data)\n",
    "np.unique(test_df[\"label\"].values)"
   ]
  },
  {
   "cell_type": "code",
   "execution_count": 14,
   "metadata": {},
   "outputs": [
    {
     "data": {
      "text/plain": [
       "array([1126, 1010, 1144, 1196,  957, 1204, 1090, 1013, 1162,    0, 1114,\n",
       "       1241, 1055, 1151, 1196, 1088, 1279, 1294, 1199, 1186, 1161, 1082,\n",
       "       1225, 1164, 1118])"
      ]
     },
     "execution_count": 14,
     "metadata": {},
     "output_type": "execute_result"
    }
   ],
   "source": [
    "# Computing the number of objects for each class (training data)\n",
    "np.bincount(train_df[\"label\"].values)"
   ]
  },
  {
   "cell_type": "code",
   "execution_count": 15,
   "metadata": {},
   "outputs": [],
   "source": [
    "y_train = train_df['label']\n",
    "y_test = test_df['label']"
   ]
  },
  {
   "cell_type": "code",
   "execution_count": 16,
   "metadata": {},
   "outputs": [
    {
     "data": {
      "image/png": "[encoded data removed]",
      "text/plain": [
       "<Figure size 1000x600 with 1 Axes>"
      ]
     },
     "metadata": {},
     "output_type": "display_data"
    }
   ],
   "source": [
    "plot_class_distribution(y_train, 'Distribution of classes in training set')"
   ]
  },
  {
   "cell_type": "code",
   "execution_count": 17,
   "metadata": {},
   "outputs": [
    {
     "data": {
      "image/png": "[encoded data removed]",
      "text/plain": [
       "<Figure size 1000x600 with 1 Axes>"
      ]
     },
     "metadata": {},
     "output_type": "display_data"
    }
   ],
   "source": [
    "plot_class_distribution(y_test, 'Distribution of classes in test set')"
   ]
  },
  {
   "cell_type": "markdown",
   "metadata": {},
   "source": [
    "In order to be able to successfully run the neural net, we need to have the consecutive class labels starting with zero. Hence, we will just relabel those objects which have class labels greater than 9 by subtracting one from the original label, thus obtaining the consecutive labels."
   ]
  },
  {
   "cell_type": "code",
   "execution_count": 18,
   "metadata": {},
   "outputs": [],
   "source": [
    "train_df[\"label\"] = train_df[\"label\"].apply(adjust_class_labels)"
   ]
  },
  {
   "cell_type": "code",
   "execution_count": 19,
   "metadata": {},
   "outputs": [
    {
     "data": {
      "text/plain": [
       "array([ 0,  1,  2,  3,  4,  5,  6,  7,  8,  9, 10, 11, 12, 13, 14, 15, 16,\n",
       "       17, 18, 19, 20, 21, 22, 23])"
      ]
     },
     "execution_count": 19,
     "metadata": {},
     "output_type": "execute_result"
    }
   ],
   "source": [
    "# Verifying the new class labels\n",
    "np.unique(train_df[\"label\"].values)"
   ]
  },
  {
   "cell_type": "code",
   "execution_count": 20,
   "metadata": {},
   "outputs": [],
   "source": [
    "test_df[\"label\"] = test_df[\"label\"].apply(adjust_class_labels)"
   ]
  },
  {
   "cell_type": "code",
   "execution_count": 21,
   "metadata": {},
   "outputs": [
    {
     "data": {
      "text/plain": [
       "array([ 0,  1,  2,  3,  4,  5,  6,  7,  8,  9, 10, 11, 12, 13, 14, 15, 16,\n",
       "       17, 18, 19, 20, 21, 22, 23])"
      ]
     },
     "execution_count": 21,
     "metadata": {},
     "output_type": "execute_result"
    }
   ],
   "source": [
    "# Verifying the new class labels\n",
    "np.unique(test_df[\"label\"].values)"
   ]
  },
  {
   "cell_type": "code",
   "execution_count": 22,
   "metadata": {},
   "outputs": [],
   "source": [
    "y_train = train_df['label']\n",
    "y_test = test_df['label']"
   ]
  },
  {
   "cell_type": "code",
   "execution_count": 23,
   "metadata": {},
   "outputs": [
    {
     "data": {
      "image/png": "[encoded data removed]",
      "text/plain": [
       "<Figure size 1000x600 with 1 Axes>"
      ]
     },
     "metadata": {},
     "output_type": "display_data"
    }
   ],
   "source": [
    "plot_class_distribution(y_train, 'Distribution of classes in training set')"
   ]
  },
  {
   "cell_type": "code",
   "execution_count": 24,
   "metadata": {},
   "outputs": [
    {
     "data": {
      "image/png": "[encoded data removed]",
      "text/plain": [
       "<Figure size 1000x600 with 1 Axes>"
      ]
     },
     "metadata": {},
     "output_type": "display_data"
    }
   ],
   "source": [
    "plot_class_distribution(y_test, 'Distribution of classes in test set')"
   ]
  },
  {
   "cell_type": "code",
   "execution_count": 25,
   "metadata": {},
   "outputs": [],
   "source": [
    "drop_column(train_df, 'label')\n",
    "drop_column(test_df, 'label')"
   ]
  },
  {
   "cell_type": "markdown",
   "metadata": {},
   "source": [
    "## Creating Datasets"
   ]
  },
  {
   "cell_type": "code",
   "execution_count": 26,
   "metadata": {},
   "outputs": [],
   "source": [
    "target = y_train.values\n",
    "features = train_df.values\n",
    "\n",
    "target_test = y_test.values\n",
    "features_test = test_df.values"
   ]
  },
  {
   "cell_type": "markdown",
   "metadata": {},
   "source": [
    "### Reshaping the training/testing data for NN"
   ]
  },
  {
   "cell_type": "code",
   "execution_count": 27,
   "metadata": {},
   "outputs": [],
   "source": [
    "features = features.reshape(-1, 1, 28, 28)\n",
    "features_test = features_test.reshape(-1, 1, 28, 28)"
   ]
  },
  {
   "cell_type": "markdown",
   "metadata": {},
   "source": [
    "### Rescaling the features (training + testing)"
   ]
  },
  {
   "cell_type": "code",
   "execution_count": 28,
   "metadata": {},
   "outputs": [],
   "source": [
    "features_scaled = features / 255\n",
    "features_test_scaled = features_test / 255"
   ]
  },
  {
   "cell_type": "code",
   "execution_count": 29,
   "metadata": {},
   "outputs": [
    {
     "name": "stdout",
     "output_type": "stream",
     "text": [
      "First 3 samples in features_scaled:\n",
      "[[[0.41960784 0.4627451  0.49803922 0.5254902  0.54509804 0.56078431\n",
      "   0.57254902 0.58823529 0.6        0.61176471 0.61960784 0.62745098\n",
      "   0.63921569 0.64705882 0.62352941 0.65098039 0.65882353 0.66666667\n",
      "   0.66666667 0.67058824 0.67058824 0.67058824 0.6745098  0.67058824\n",
      "   0.67058824 0.66666667 0.66666667 0.6627451 ]\n",
      "  [0.43529412 0.4745098  0.50588235 0.52941176 0.55294118 0.56470588\n",
      "   0.58039216 0.59215686 0.60392157 0.61568627 0.62745098 0.63921569\n",
      "   0.64313725 0.66666667 0.46666667 0.59607843 0.67058824 0.67058824\n",
      "   0.66666667 0.67058824 0.6745098  0.6745098  0.6745098  0.6745098\n",
      "   0.6745098  0.67058824 0.67058824 0.66666667]\n",
      "  [0.44313725 0.48235294 0.51372549 0.5372549  0.55686275 0.56862745\n",
      "   0.58823529 0.59607843 0.60784314 0.61960784 0.63137255 0.63921569\n",
      "   0.64313725 0.6745098  0.41176471 0.55686275 0.66666667 0.67058824\n",
      "   0.67058824 0.67058824 0.6745098  0.6745098  0.67843137 0.67843137\n",
      "   0.6745098  0.67058824 0.67058824 0.67058824]\n",
      "  [0.45490196 0.49019608 0.52156863 0.54509804 0.56078431 0.57254902\n",
      "   0.59215686 0.6        0.61176471 0.62352941 0.63529412 0.63921569\n",
      "   0.65490196 0.65490196 0.37254902 0.56470588 0.67058824 0.6745098\n",
      "   0.6745098  0.6745098  0.6745098  0.6745098  0.67843137 0.67843137\n",
      "   0.67843137 0.6745098  0.6745098  0.67058824]\n",
      "  [0.45882353 0.49411765 0.5254902  0.54901961 0.56862745 0.58431373\n",
      "   0.6        0.61176471 0.61960784 0.63137255 0.63921569 0.64313725\n",
      "   0.68627451 0.61176471 0.34117647 0.60392157 0.6745098  0.67843137\n",
      "   0.67843137 0.67843137 0.67843137 0.67843137 0.68235294 0.68235294\n",
      "   0.68235294 0.67843137 0.6745098  0.6745098 ]\n",
      "  [0.46666667 0.50196078 0.53333333 0.55686275 0.57254902 0.58823529\n",
      "   0.6        0.61176471 0.62352941 0.63921569 0.64705882 0.64313725\n",
      "   0.72156863 0.58039216 0.34901961 0.64313725 0.6745098  0.68235294\n",
      "   0.68235294 0.68235294 0.68235294 0.68627451 0.68627451 0.68235294\n",
      "   0.68627451 0.68235294 0.67843137 0.67843137]\n",
      "  [0.47843137 0.50980392 0.54117647 0.56078431 0.57647059 0.58823529\n",
      "   0.60392157 0.61960784 0.63529412 0.64705882 0.65098039 0.6745098\n",
      "   0.70980392 0.50196078 0.36862745 0.66666667 0.67843137 0.68627451\n",
      "   0.68235294 0.68627451 0.69019608 0.69411765 0.69411765 0.69411765\n",
      "   0.69411765 0.68627451 0.68627451 0.68235294]\n",
      "  [0.47843137 0.51764706 0.54509804 0.56862745 0.58431373 0.59607843\n",
      "   0.61176471 0.62745098 0.63921569 0.64705882 0.65098039 0.70980392\n",
      "   0.6745098  0.40392157 0.44313725 0.68627451 0.69019608 0.69803922\n",
      "   0.69803922 0.70196078 0.70196078 0.70196078 0.70196078 0.69803922\n",
      "   0.70196078 0.69411765 0.68627451 0.68235294]\n",
      "  [0.49019608 0.5254902  0.55294118 0.57647059 0.58823529 0.6\n",
      "   0.61568627 0.63137255 0.64313725 0.65490196 0.65882353 0.72156863\n",
      "   0.70196078 0.45490196 0.49411765 0.64705882 0.69019608 0.70196078\n",
      "   0.70588235 0.70588235 0.70980392 0.70588235 0.70588235 0.70588235\n",
      "   0.70196078 0.69803922 0.69411765 0.69019608]\n",
      "  [0.50196078 0.52941176 0.55686275 0.58039216 0.59607843 0.60392157\n",
      "   0.61960784 0.63529412 0.64705882 0.65882353 0.66666667 0.73333333\n",
      "   0.70588235 0.61176471 0.63137255 0.48627451 0.56078431 0.70196078\n",
      "   0.69803922 0.69803922 0.70980392 0.71372549 0.70980392 0.70588235\n",
      "   0.70980392 0.70588235 0.70196078 0.70196078]\n",
      "  [0.50588235 0.53333333 0.56470588 0.58823529 0.6        0.60784314\n",
      "   0.62352941 0.63921569 0.65098039 0.6627451  0.6745098  0.73333333\n",
      "   0.72156863 0.6        0.4        0.45882353 0.43137255 0.68627451\n",
      "   0.6627451  0.60392157 0.71372549 0.71764706 0.71764706 0.71372549\n",
      "   0.71372549 0.70980392 0.70980392 0.70196078]\n",
      "  [0.51372549 0.54117647 0.56862745 0.58823529 0.60784314 0.61568627\n",
      "   0.63137255 0.64705882 0.65882353 0.68235294 0.74509804 0.74117647\n",
      "   0.68627451 0.57254902 0.36862745 0.38039216 0.44313725 0.59215686\n",
      "   0.61960784 0.50588235 0.72156863 0.72156863 0.72156863 0.72156863\n",
      "   0.71764706 0.71764706 0.71372549 0.70588235]\n",
      "  [0.51372549 0.54509804 0.57254902 0.59215686 0.60784314 0.62352941\n",
      "   0.63921569 0.65490196 0.68627451 0.71372549 0.70196078 0.67058824\n",
      "   0.62352941 0.44705882 0.4        0.34901961 0.4745098  0.53333333\n",
      "   0.53333333 0.37647059 0.6745098  0.72941176 0.72941176 0.7254902\n",
      "   0.7254902  0.72156863 0.71372549 0.70980392]\n",
      "  [0.51372549 0.54901961 0.57647059 0.60392157 0.61568627 0.62745098\n",
      "   0.64313725 0.70196078 0.72941176 0.74901961 0.73333333 0.70588235\n",
      "   0.61568627 0.39215686 0.34509804 0.32941176 0.42352941 0.43529412\n",
      "   0.49411765 0.35294118 0.47058824 0.72941176 0.73333333 0.73333333\n",
      "   0.72941176 0.7254902  0.72156863 0.71372549]\n",
      "  [0.52156863 0.55294118 0.58431373 0.60784314 0.61960784 0.62745098\n",
      "   0.68235294 0.78823529 0.74117647 0.64705882 0.59215686 0.56078431\n",
      "   0.57254902 0.47058824 0.34117647 0.30588235 0.34117647 0.29803922\n",
      "   0.42352941 0.38431373 0.37647059 0.70980392 0.7372549  0.73333333\n",
      "   0.72941176 0.72941176 0.7254902  0.71764706]\n",
      "  [0.52156863 0.55294118 0.58823529 0.61176471 0.62745098 0.63137255\n",
      "   0.70196078 0.77254902 0.68235294 0.52941176 0.38823529 0.28235294\n",
      "   0.37254902 0.5254902  0.38039216 0.28235294 0.29019608 0.26666667\n",
      "   0.45490196 0.41176471 0.42352941 0.73333333 0.74117647 0.73333333\n",
      "   0.73333333 0.72941176 0.72941176 0.7254902 ]\n",
      "  [0.5254902  0.56078431 0.59215686 0.61176471 0.63137255 0.63921569\n",
      "   0.70196078 0.76078431 0.61176471 0.43137255 0.29019608 0.16470588\n",
      "   0.20392157 0.54509804 0.36862745 0.2627451  0.29411765 0.29411765\n",
      "   0.4627451  0.41568627 0.50588235 0.74117647 0.74901961 0.74509804\n",
      "   0.7372549  0.7372549  0.73333333 0.72941176]\n",
      "  [0.52941176 0.56470588 0.59607843 0.61960784 0.63921569 0.63921569\n",
      "   0.69411765 0.75686275 0.63137255 0.47843137 0.32941176 0.16862745\n",
      "   0.27843137 0.5254902  0.31764706 0.22352941 0.27843137 0.34509804\n",
      "   0.43921569 0.38431373 0.61568627 0.75686275 0.75686275 0.75294118\n",
      "   0.74509804 0.74509804 0.74117647 0.7372549 ]\n",
      "  [0.53333333 0.56470588 0.59607843 0.61960784 0.63529412 0.63921569\n",
      "   0.69019608 0.75294118 0.64313725 0.50196078 0.38431373 0.24313725\n",
      "   0.23529412 0.39215686 0.27843137 0.29803922 0.37647059 0.39607843\n",
      "   0.41176471 0.37254902 0.68235294 0.76470588 0.76078431 0.76078431\n",
      "   0.76078431 0.75686275 0.74901961 0.74509804]\n",
      "  [0.5372549  0.56862745 0.59607843 0.62352941 0.64313725 0.64705882\n",
      "   0.69803922 0.74901961 0.64313725 0.52941176 0.44313725 0.32156863\n",
      "   0.23137255 0.34117647 0.38431373 0.43529412 0.47058824 0.42352941\n",
      "   0.38039216 0.42352941 0.74509804 0.76862745 0.76470588 0.76470588\n",
      "   0.76078431 0.75686275 0.75686275 0.75294118]\n",
      "  [0.54509804 0.57254902 0.60392157 0.62745098 0.64313725 0.64705882\n",
      "   0.68627451 0.72941176 0.63921569 0.54509804 0.43921569 0.33333333\n",
      "   0.2627451  0.4        0.49411765 0.52156863 0.49411765 0.41176471\n",
      "   0.40784314 0.69019608 0.77254902 0.77647059 0.77254902 0.76862745\n",
      "   0.76470588 0.76470588 0.76078431 0.75686275]\n",
      "  [0.54117647 0.57647059 0.60784314 0.63137255 0.64705882 0.65490196\n",
      "   0.6745098  0.72941176 0.63921569 0.5372549  0.41960784 0.34117647\n",
      "   0.29803922 0.41568627 0.47843137 0.49019608 0.45882353 0.37647059\n",
      "   0.61176471 0.78039216 0.78039216 0.78431373 0.77647059 0.76862745\n",
      "   0.76862745 0.76470588 0.76470588 0.76078431]\n",
      "  [0.54509804 0.58039216 0.61176471 0.63921569 0.65098039 0.65882353\n",
      "   0.6745098  0.70588235 0.61960784 0.51372549 0.42352941 0.38823529\n",
      "   0.3372549  0.42352941 0.4627451  0.45490196 0.40392157 0.41960784\n",
      "   0.74901961 0.79215686 0.78823529 0.78431373 0.78431373 0.78431373\n",
      "   0.78039216 0.77254902 0.77647059 0.76862745]\n",
      "  [0.54901961 0.58431373 0.61568627 0.64313725 0.65882353 0.65490196\n",
      "   0.69411765 0.69803922 0.60784314 0.51372549 0.4627451  0.41176471\n",
      "   0.34117647 0.39215686 0.41568627 0.39215686 0.37647059 0.64313725\n",
      "   0.79215686 0.79215686 0.79215686 0.79215686 0.79215686 0.78823529\n",
      "   0.78431373 0.78039216 0.78039216 0.77647059]\n",
      "  [0.54901961 0.58823529 0.61568627 0.64705882 0.65490196 0.66666667\n",
      "   0.70980392 0.68627451 0.59607843 0.50980392 0.45098039 0.38431373\n",
      "   0.32156863 0.33333333 0.35294118 0.38823529 0.64705882 0.79215686\n",
      "   0.79607843 0.8        0.79607843 0.79607843 0.79215686 0.79215686\n",
      "   0.78823529 0.78823529 0.78431373 0.78431373]\n",
      "  [0.55686275 0.58823529 0.62352941 0.64705882 0.66666667 0.74901961\n",
      "   0.67843137 0.61568627 0.56470588 0.46666667 0.38039216 0.32941176\n",
      "   0.30980392 0.30980392 0.35686275 0.6745098  0.79215686 0.79607843\n",
      "   0.79607843 0.80392157 0.8        0.8        0.8        0.79607843\n",
      "   0.79215686 0.79215686 0.78823529 0.78431373]\n",
      "  [0.55686275 0.59215686 0.62745098 0.64705882 0.7372549  0.74509804\n",
      "   0.73333333 0.58823529 0.46666667 0.42745098 0.33333333 0.30980392\n",
      "   0.30980392 0.30588235 0.5372549  0.79607843 0.80392157 0.80784314\n",
      "   0.80784314 0.81176471 0.81176471 0.80784314 0.80784314 0.8\n",
      "   0.80392157 0.8        0.79607843 0.79215686]\n",
      "  [0.55686275 0.59215686 0.62745098 0.6745098  0.76862745 0.7372549\n",
      "   0.7372549  0.74509804 0.52941176 0.37647059 0.3372549  0.30196078\n",
      "   0.30196078 0.30980392 0.69019608 0.80392157 0.81176471 0.81176471\n",
      "   0.81176471 0.81176471 0.81176471 0.81176471 0.80784314 0.80784314\n",
      "   0.80784314 0.8        0.79607843 0.79215686]]]\n",
      "[[[0.60784314 0.61568627 0.61176471 0.61176471 0.61176471 0.61568627\n",
      "   0.61176471 0.61960784 0.61960784 0.61568627 0.61960784 0.61176471\n",
      "   0.60392157 0.60392157 0.6        0.59607843 0.59215686 0.58431373\n",
      "   0.58431373 0.58039216 0.57647059 0.57254902 0.56470588 0.55686275\n",
      "   0.56078431 0.54117647 0.36078431 0.42352941]\n",
      "  [0.61960784 0.62352941 0.62352941 0.62352941 0.62745098 0.62745098\n",
      "   0.62745098 0.62745098 0.62745098 0.62745098 0.62745098 0.62352941\n",
      "   0.61960784 0.61568627 0.60784314 0.60392157 0.6        0.59607843\n",
      "   0.59215686 0.58823529 0.58431373 0.58431373 0.57647059 0.57647059\n",
      "   0.57254902 0.55686275 0.45490196 0.56078431]\n",
      "  [0.63137255 0.63137255 0.63137255 0.63137255 0.63529412 0.63137255\n",
      "   0.63529412 0.63529412 0.63529412 0.63529412 0.63137255 0.63137255\n",
      "   0.63137255 0.62745098 0.62352941 0.61960784 0.61176471 0.60784314\n",
      "   0.60392157 0.6        0.59607843 0.59607843 0.59215686 0.58823529\n",
      "   0.57647059 0.57647059 0.49019608 0.54901961]\n",
      "  [0.64705882 0.64313725 0.64313725 0.64705882 0.64705882 0.64705882\n",
      "   0.64705882 0.64705882 0.64313725 0.64313725 0.64313725 0.64705882\n",
      "   0.63921569 0.63921569 0.63529412 0.63137255 0.62352941 0.62352941\n",
      "   0.61960784 0.61176471 0.61176471 0.60784314 0.59607843 0.6\n",
      "   0.60392157 0.59215686 0.48627451 0.49411765]\n",
      "  [0.65098039 0.65490196 0.65098039 0.65490196 0.65490196 0.65098039\n",
      "   0.65490196 0.65490196 0.65490196 0.65490196 0.65098039 0.65490196\n",
      "   0.64705882 0.64705882 0.64313725 0.63921569 0.63529412 0.63529412\n",
      "   0.63137255 0.62745098 0.61176471 0.59215686 0.60392157 0.69019608\n",
      "   0.56862745 0.47843137 0.56470588 0.39215686]\n",
      "  [0.65882353 0.6627451  0.65882353 0.6627451  0.6627451  0.65882353\n",
      "   0.6627451  0.66666667 0.66666667 0.66666667 0.6627451  0.65882353\n",
      "   0.65490196 0.65098039 0.65490196 0.64705882 0.63529412 0.62352941\n",
      "   0.62352941 0.61176471 0.59215686 0.64705882 0.67058824 0.57254902\n",
      "   0.36862745 0.50980392 0.62352941 0.43529412]\n",
      "  [0.67058824 0.67058824 0.66666667 0.67058824 0.67058824 0.67058824\n",
      "   0.6745098  0.67058824 0.67058824 0.67058824 0.6745098  0.6627451\n",
      "   0.6627451  0.66666667 0.65098039 0.64705882 0.62745098 0.61568627\n",
      "   0.66666667 0.69411765 0.67058824 0.6        0.48627451 0.37647059\n",
      "   0.49019608 0.61568627 0.60784314 0.57254902]\n",
      "  [0.6745098  0.6745098  0.6745098  0.67843137 0.67843137 0.67843137\n",
      "   0.67843137 0.67843137 0.67843137 0.67843137 0.68235294 0.68235294\n",
      "   0.67058824 0.65490196 0.6627451  0.68627451 0.67058824 0.64313725\n",
      "   0.64705882 0.61568627 0.50588235 0.43921569 0.4745098  0.58039216\n",
      "   0.64313725 0.61960784 0.60784314 0.59607843]\n",
      "  [0.68627451 0.68235294 0.68235294 0.68235294 0.68627451 0.68235294\n",
      "   0.68235294 0.68235294 0.68235294 0.69411765 0.69803922 0.68235294\n",
      "   0.66666667 0.69803922 0.71372549 0.67058824 0.60392157 0.49803922\n",
      "   0.47058824 0.49411765 0.54117647 0.62352941 0.65882353 0.64705882\n",
      "   0.63529412 0.63137255 0.61960784 0.61568627]\n",
      "  [0.69019608 0.69019608 0.69019608 0.69019608 0.69411765 0.69019608\n",
      "   0.69019608 0.69411765 0.69411765 0.68627451 0.6627451  0.66666667\n",
      "   0.69803922 0.6627451  0.61960784 0.63921569 0.54509804 0.46666667\n",
      "   0.60784314 0.67058824 0.6745098  0.65882353 0.64705882 0.64705882\n",
      "   0.63921569 0.63529412 0.62745098 0.61960784]\n",
      "  [0.69411765 0.69411765 0.69411765 0.69803922 0.69411765 0.69803922\n",
      "   0.69803922 0.69411765 0.67058824 0.62352941 0.65490196 0.67843137\n",
      "   0.61568627 0.55686275 0.63921569 0.59607843 0.52156863 0.65490196\n",
      "   0.69411765 0.67058824 0.66666667 0.66666667 0.65882353 0.65490196\n",
      "   0.65098039 0.64313725 0.63137255 0.62352941]\n",
      "  [0.69803922 0.69803922 0.70196078 0.70196078 0.70588235 0.69803922\n",
      "   0.64313725 0.55294118 0.5372549  0.56862745 0.58823529 0.55294118\n",
      "   0.5254902  0.58823529 0.60392157 0.59215686 0.69411765 0.70980392\n",
      "   0.68627451 0.6745098  0.67843137 0.6745098  0.66666667 0.65490196\n",
      "   0.65490196 0.64705882 0.63921569 0.63137255]\n",
      "  [0.70588235 0.70196078 0.70588235 0.71372549 0.70588235 0.70588235\n",
      "   0.66666667 0.61176471 0.59215686 0.58039216 0.59215686 0.60392157\n",
      "   0.6        0.6        0.58039216 0.6        0.57647059 0.54901961\n",
      "   0.67058824 0.69019608 0.67843137 0.67843137 0.67058824 0.66666667\n",
      "   0.65882353 0.65490196 0.64705882 0.63921569]\n",
      "  [0.71372549 0.70980392 0.70980392 0.71372549 0.70196078 0.64313725\n",
      "   0.58431373 0.61176471 0.62352941 0.6        0.6        0.65098039\n",
      "   0.67843137 0.6627451  0.6627451  0.63921569 0.59215686 0.41176471\n",
      "   0.55294118 0.71372549 0.68235294 0.68627451 0.67843137 0.67058824\n",
      "   0.67058824 0.65882353 0.65098039 0.64705882]\n",
      "  [0.71764706 0.71764706 0.71764706 0.71372549 0.67058824 0.62352941\n",
      "   0.50980392 0.49019608 0.52941176 0.5254902  0.50980392 0.5372549\n",
      "   0.57254902 0.57647059 0.64313725 0.64705882 0.57647059 0.40392157\n",
      "   0.59215686 0.71372549 0.69019608 0.69019608 0.68627451 0.67843137\n",
      "   0.6745098  0.66666667 0.65490196 0.65098039]\n",
      "  [0.72156863 0.7254902  0.7254902  0.69019608 0.68235294 0.63921569\n",
      "   0.57647059 0.56862745 0.55686275 0.55294118 0.55294118 0.52156863\n",
      "   0.49019608 0.49019608 0.52941176 0.52941176 0.43921569 0.41176471\n",
      "   0.70980392 0.70196078 0.69019608 0.69411765 0.68627451 0.68235294\n",
      "   0.67843137 0.67058824 0.6627451  0.65098039]\n",
      "  [0.7254902  0.72941176 0.71372549 0.66666667 0.63137255 0.51764706\n",
      "   0.49019608 0.5254902  0.50980392 0.56470588 0.61568627 0.62352941\n",
      "   0.59607843 0.55294118 0.51764706 0.4745098  0.28235294 0.55686275\n",
      "   0.69019608 0.68627451 0.71372549 0.69411765 0.69411765 0.69411765\n",
      "   0.68627451 0.6745098  0.6627451  0.65882353]\n",
      "  [0.72941176 0.72941176 0.67843137 0.65882353 0.62352941 0.50196078\n",
      "   0.45098039 0.46666667 0.42745098 0.43529412 0.54901961 0.60392157\n",
      "   0.61176471 0.6        0.54901961 0.4627451  0.25098039 0.2627451\n",
      "   0.4745098  0.58039216 0.62745098 0.70980392 0.69411765 0.69411765\n",
      "   0.69019608 0.67843137 0.6627451  0.69411765]\n",
      "  [0.74117647 0.69803922 0.64705882 0.67843137 0.63921569 0.54117647\n",
      "   0.50196078 0.50196078 0.48627451 0.45882353 0.43529412 0.41568627\n",
      "   0.4627451  0.54509804 0.52156863 0.36470588 0.15686275 0.20784314\n",
      "   0.42745098 0.57254902 0.46666667 0.68235294 0.70196078 0.69019608\n",
      "   0.68627451 0.68235294 0.69411765 0.65882353]\n",
      "  [0.72941176 0.65882353 0.6627451  0.6627451  0.60784314 0.59215686\n",
      "   0.56862745 0.54509804 0.52941176 0.50980392 0.4745098  0.43921569\n",
      "   0.40784314 0.37254902 0.39607843 0.23921569 0.15294118 0.27843137\n",
      "   0.38823529 0.44705882 0.40392157 0.69411765 0.70588235 0.69803922\n",
      "   0.69803922 0.69019608 0.50980392 0.67058824]\n",
      "  [0.65882353 0.65098039 0.63921569 0.63921569 0.61960784 0.58431373\n",
      "   0.54509804 0.5372549  0.54117647 0.51764706 0.47843137 0.45490196\n",
      "   0.41960784 0.28235294 0.25882353 0.22352941 0.21568627 0.24705882\n",
      "   0.30196078 0.37254902 0.60784314 0.74117647 0.72941176 0.69411765\n",
      "   0.61960784 0.45098039 0.3372549  0.62352941]\n",
      "  [0.63529412 0.63529412 0.62352941 0.65882353 0.66666667 0.52941176\n",
      "   0.41568627 0.38039216 0.32156863 0.3254902  0.40392157 0.43529412\n",
      "   0.34117647 0.26666667 0.25490196 0.21176471 0.34901961 0.56470588\n",
      "   0.60784314 0.67843137 0.71372549 0.61568627 0.64705882 0.57647059\n",
      "   0.42745098 0.5254902  0.6        0.56862745]\n",
      "  [0.64705882 0.61176471 0.63529412 0.6627451  0.59215686 0.39607843\n",
      "   0.28627451 0.21568627 0.21176471 0.25490196 0.36862745 0.38431373\n",
      "   0.27843137 0.25098039 0.20784314 0.44705882 0.74117647 0.71764706\n",
      "   0.69411765 0.62352941 0.57647059 0.55686275 0.58431373 0.49411765\n",
      "   0.62745098 0.6745098  0.50980392 0.36078431]\n",
      "  [0.64313725 0.6627451  0.67058824 0.60784314 0.44705882 0.32156863\n",
      "   0.27058824 0.20392157 0.24313725 0.29411765 0.35686275 0.32156863\n",
      "   0.27058824 0.24313725 0.54509804 0.74901961 0.60392157 0.47058824\n",
      "   0.4627451  0.5372549  0.57647059 0.63921569 0.56862745 0.62352941\n",
      "   0.70588235 0.49411765 0.34117647 0.34509804]\n",
      "  [0.63529412 0.66666667 0.63529412 0.52941176 0.38431373 0.30980392\n",
      "   0.25882353 0.22745098 0.2627451  0.26666667 0.25882353 0.25098039\n",
      "   0.30980392 0.57254902 0.74117647 0.58039216 0.51764706 0.53333333\n",
      "   0.52156863 0.56470588 0.60392157 0.72156863 0.54509804 0.50980392\n",
      "   0.4745098  0.36470588 0.4        0.39215686]\n",
      "  [0.63529412 0.62352941 0.56862745 0.43921569 0.33333333 0.29411765\n",
      "   0.26666667 0.25490196 0.25098039 0.24313725 0.30980392 0.48235294\n",
      "   0.75294118 0.77647059 0.71764706 0.49411765 0.31764706 0.48235294\n",
      "   0.5372549  0.50588235 0.60392157 0.85098039 0.52156863 0.34117647\n",
      "   0.34117647 0.35686275 0.39607843 0.36862745]\n",
      "  [0.6        0.54509804 0.45098039 0.34901961 0.30196078 0.28235294\n",
      "   0.25490196 0.30196078 0.41568627 0.5372549  0.68235294 0.7254902\n",
      "   0.57254902 0.4745098  0.43529412 0.43921569 0.39215686 0.30588235\n",
      "   0.47058824 0.61568627 0.65882353 0.41960784 0.38823529 0.4745098\n",
      "   0.52156863 0.38039216 0.37254902 0.47058824]\n",
      "  [0.52941176 0.45490196 0.37254902 0.30980392 0.27058824 0.3372549\n",
      "   0.54509804 0.67843137 0.78431373 0.7254902  0.68627451 0.77647059\n",
      "   0.48627451 0.4627451  0.36862745 0.54901961 0.52156863 0.32941176\n",
      "   0.27058824 0.58431373 0.50196078 0.34117647 0.36862745 0.63921569\n",
      "   0.68627451 0.40392157 0.52941176 0.58431373]]]\n",
      "[[[0.73333333 0.7372549  0.7372549  0.73333333 0.73333333 0.72941176\n",
      "   0.73333333 0.7372549  0.73333333 0.72941176 0.7254902  0.7254902\n",
      "   0.7254902  0.72156863 0.72156863 0.72156863 0.70980392 0.70980392\n",
      "   0.70196078 0.70196078 0.70196078 0.69803922 0.69803922 0.42745098\n",
      "   0.20392157 0.25882353 0.30196078 0.3254902 ]\n",
      "  [0.7372549  0.74117647 0.74117647 0.7372549  0.7372549  0.74117647\n",
      "   0.7372549  0.7372549  0.7372549  0.7372549  0.73333333 0.7254902\n",
      "   0.7254902  0.73333333 0.71372549 0.69411765 0.71372549 0.71372549\n",
      "   0.71372549 0.70588235 0.70588235 0.70196078 0.70588235 0.52941176\n",
      "   0.2627451  0.28627451 0.28627451 0.27843137]\n",
      "  [0.74509804 0.74509804 0.74509804 0.74901961 0.74509804 0.74509804\n",
      "   0.74117647 0.74117647 0.74117647 0.7372549  0.74117647 0.7372549\n",
      "   0.75294118 0.72156863 0.56470588 0.40392157 0.56470588 0.55686275\n",
      "   0.54117647 0.72941176 0.71372549 0.70588235 0.71372549 0.63921569\n",
      "   0.31764706 0.29019608 0.26666667 0.23921569]\n",
      "  [0.74901961 0.75686275 0.75294118 0.75294118 0.75294118 0.74901961\n",
      "   0.74901961 0.74901961 0.74901961 0.76470588 0.78431373 0.74117647\n",
      "   0.64705882 0.49803922 0.38431373 0.27843137 0.33333333 0.36862745\n",
      "   0.3372549  0.64705882 0.72156863 0.71372549 0.71372549 0.68627451\n",
      "   0.34117647 0.23921569 0.2        0.21960784]\n",
      "  [0.75294118 0.75686275 0.76078431 0.75686275 0.75686275 0.75686275\n",
      "   0.76078431 0.74901961 0.79215686 0.81568627 0.75686275 0.50980392\n",
      "   0.37254902 0.30588235 0.27058824 0.24313725 0.27058824 0.28235294\n",
      "   0.27058824 0.3254902  0.70196078 0.72156863 0.71764706 0.72156863\n",
      "   0.45490196 0.16862745 0.14901961 0.21960784]\n",
      "  [0.75686275 0.75686275 0.76078431 0.76470588 0.76470588 0.76470588\n",
      "   0.76470588 0.76862745 0.81960784 0.75686275 0.56470588 0.3254902\n",
      "   0.22745098 0.23921569 0.24313725 0.20392157 0.23529412 0.25490196\n",
      "   0.25882353 0.2745098  0.69019608 0.73333333 0.72156863 0.7254902\n",
      "   0.61960784 0.17647059 0.1372549  0.17647059]\n",
      "  [0.76078431 0.76078431 0.76470588 0.76862745 0.76862745 0.77254902\n",
      "   0.76470588 0.81568627 0.83137255 0.52156863 0.3372549  0.2627451\n",
      "   0.20392157 0.20392157 0.23529412 0.23921569 0.24705882 0.28627451\n",
      "   0.35686275 0.58823529 0.73333333 0.73333333 0.7254902  0.71764706\n",
      "   0.68627451 0.43921569 0.3254902  0.21568627]\n",
      "  [0.76470588 0.76862745 0.76470588 0.77647059 0.77647059 0.77647059\n",
      "   0.76078431 0.85882353 0.75686275 0.41568627 0.2745098  0.26666667\n",
      "   0.25098039 0.23529412 0.24705882 0.27843137 0.58823529 0.68235294\n",
      "   0.73333333 0.74901961 0.73333333 0.72941176 0.7254902  0.7254902\n",
      "   0.70196078 0.47843137 0.56862745 0.54901961]\n",
      "  [0.76470588 0.77254902 0.77647059 0.78039216 0.78431373 0.77647059\n",
      "   0.79215686 0.87843137 0.6745098  0.40392157 0.27058824 0.26666667\n",
      "   0.25882353 0.23529412 0.36862745 0.63921569 0.76470588 0.75686275\n",
      "   0.74509804 0.74509804 0.74117647 0.74117647 0.73333333 0.74117647\n",
      "   0.66666667 0.34901961 0.6627451  0.67058824]\n",
      "  [0.77647059 0.78431373 0.78431373 0.78431373 0.78431373 0.78039216\n",
      "   0.84313725 0.82352941 0.57254902 0.32941176 0.23529412 0.23529412\n",
      "   0.23921569 0.25882353 0.65882353 0.78823529 0.75686275 0.75294118\n",
      "   0.74901961 0.74509804 0.74117647 0.74117647 0.7372549  0.74117647\n",
      "   0.6627451  0.43137255 0.71372549 0.56078431]\n",
      "  [0.78039216 0.78431373 0.78823529 0.78823529 0.78431373 0.79607843\n",
      "   0.87843137 0.77254902 0.55686275 0.36470588 0.29019608 0.26666667\n",
      "   0.23137255 0.2745098  0.69411765 0.78039216 0.76470588 0.76078431\n",
      "   0.75686275 0.75294118 0.74901961 0.74117647 0.74117647 0.74117647\n",
      "   0.71372549 0.59607843 0.50980392 0.4       ]\n",
      "  [0.78823529 0.78823529 0.79215686 0.79215686 0.78431373 0.84313725\n",
      "   0.89803922 0.72941176 0.51372549 0.36470588 0.32156863 0.31372549\n",
      "   0.26666667 0.31764706 0.76470588 0.76862745 0.76470588 0.76470588\n",
      "   0.76470588 0.75686275 0.75294118 0.75294118 0.74901961 0.74117647\n",
      "   0.74117647 0.71764706 0.51372549 0.50980392]\n",
      "  [0.78823529 0.79215686 0.79215686 0.79607843 0.79215686 0.90196078\n",
      "   0.87058824 0.65882353 0.4627451  0.34117647 0.31372549 0.30588235\n",
      "   0.29411765 0.43137255 0.79215686 0.77254902 0.77254902 0.76862745\n",
      "   0.76470588 0.76078431 0.76078431 0.75686275 0.75294118 0.74901961\n",
      "   0.74509804 0.7254902  0.6627451  0.63137255]\n",
      "  [0.79215686 0.79215686 0.79607843 0.79215686 0.81176471 0.92941176\n",
      "   0.82352941 0.61960784 0.42352941 0.31764706 0.29803922 0.29803922\n",
      "   0.29411765 0.45490196 0.80392157 0.77254902 0.77647059 0.77647059\n",
      "   0.76862745 0.76470588 0.76470588 0.76078431 0.75686275 0.74901961\n",
      "   0.74117647 0.72941176 0.68235294 0.71372549]\n",
      "  [0.79215686 0.79607843 0.80392157 0.78431373 0.85490196 0.93333333\n",
      "   0.79215686 0.59215686 0.41176471 0.32156863 0.30980392 0.31372549\n",
      "   0.29411765 0.50588235 0.80784314 0.77647059 0.78039216 0.77647059\n",
      "   0.77254902 0.76862745 0.76862745 0.76078431 0.75686275 0.75294118\n",
      "   0.74509804 0.74117647 0.72156863 0.65098039]\n",
      "  [0.8        0.8        0.81176471 0.79215686 0.91764706 0.89411765\n",
      "   0.72941176 0.55294118 0.38039216 0.31372549 0.31372549 0.30980392\n",
      "   0.26666667 0.53333333 0.81960784 0.77647059 0.78039216 0.78039216\n",
      "   0.77647059 0.77254902 0.77647059 0.77254902 0.76862745 0.75294118\n",
      "   0.75294118 0.74901961 0.74509804 0.61960784]\n",
      "  [0.80784314 0.80784314 0.79215686 0.84313725 0.94117647 0.85098039\n",
      "   0.68235294 0.50980392 0.35686275 0.30588235 0.29019608 0.27843137\n",
      "   0.2745098  0.3254902  0.75294118 0.79607843 0.78431373 0.78431373\n",
      "   0.78823529 0.78431373 0.74901961 0.69411765 0.64313725 0.59215686\n",
      "   0.56470588 0.64313725 0.74509804 0.73333333]\n",
      "  [0.80784314 0.81176471 0.78039216 0.89803922 0.91764706 0.8\n",
      "   0.62745098 0.46666667 0.34901961 0.29411765 0.25882353 0.27058824\n",
      "   0.28627451 0.27058824 0.4745098  0.83137255 0.8        0.79607843\n",
      "   0.74117647 0.64313725 0.59215686 0.59215686 0.57254902 0.54117647\n",
      "   0.46666667 0.35686275 0.71372549 0.74901961]\n",
      "  [0.81568627 0.80392157 0.80784314 0.93333333 0.88235294 0.74509804\n",
      "   0.58431373 0.44313725 0.34901961 0.2745098  0.24313725 0.26666667\n",
      "   0.28627451 0.29411765 0.29019608 0.61176471 0.70196078 0.63137255\n",
      "   0.57647059 0.57647059 0.60784314 0.59215686 0.52156863 0.43921569\n",
      "   0.45882353 0.48235294 0.72156863 0.74117647]\n",
      "  [0.81176471 0.77647059 0.87843137 0.92941176 0.85490196 0.70980392\n",
      "   0.54509804 0.41960784 0.33333333 0.24705882 0.24313725 0.29411765\n",
      "   0.31372549 0.32156863 0.3254902  0.31372549 0.43529412 0.53333333\n",
      "   0.61568627 0.61960784 0.54901961 0.42745098 0.40392157 0.60392157\n",
      "   0.74509804 0.75294118 0.74509804 0.74509804]\n",
      "  [0.78039216 0.81960784 0.93333333 0.90980392 0.81960784 0.67843137\n",
      "   0.5372549  0.39215686 0.31372549 0.22745098 0.28627451 0.35294118\n",
      "   0.38039216 0.4        0.38823529 0.39215686 0.45882353 0.54509804\n",
      "   0.56862745 0.47843137 0.37254902 0.36862745 0.68627451 0.78039216\n",
      "   0.76470588 0.75686275 0.75686275 0.74509804]\n",
      "  [0.78431373 0.91372549 0.92941176 0.87843137 0.78823529 0.65490196\n",
      "   0.50588235 0.37647059 0.31372549 0.23921569 0.3372549  0.38431373\n",
      "   0.41568627 0.43921569 0.41960784 0.41960784 0.44705882 0.45098039\n",
      "   0.40392157 0.45098039 0.6        0.73333333 0.78039216 0.76470588\n",
      "   0.76078431 0.75294118 0.74509804 0.74509804]\n",
      "  [0.89411765 0.9254902  0.88627451 0.83921569 0.76078431 0.62745098\n",
      "   0.47058824 0.36078431 0.30588235 0.2745098  0.37254902 0.40784314\n",
      "   0.41960784 0.43529412 0.40392157 0.36862745 0.3254902  0.39215686\n",
      "   0.61960784 0.77254902 0.79215686 0.78431373 0.77254902 0.76470588\n",
      "   0.76078431 0.75294118 0.74509804 0.74117647]\n",
      "  [0.89019608 0.89411765 0.8627451  0.80784314 0.71764706 0.58039216\n",
      "   0.41568627 0.35294118 0.30588235 0.3254902  0.40392157 0.43137255\n",
      "   0.41568627 0.37254902 0.33333333 0.30196078 0.4745098  0.74117647\n",
      "   0.80392157 0.79215686 0.78431373 0.78823529 0.77647059 0.76862745\n",
      "   0.76470588 0.75294118 0.74509804 0.74509804]\n",
      "  [0.85882353 0.84705882 0.8        0.71372549 0.62745098 0.49803922\n",
      "   0.37647059 0.34117647 0.30196078 0.34901961 0.39215686 0.40784314\n",
      "   0.36862745 0.28235294 0.40392157 0.68235294 0.8        0.80392157\n",
      "   0.79607843 0.78823529 0.78431373 0.78823529 0.78039216 0.77254902\n",
      "   0.76470588 0.75686275 0.75294118 0.74901961]\n",
      "  [0.83137255 0.77647059 0.68627451 0.61960784 0.53333333 0.40392157\n",
      "   0.33333333 0.29803922 0.31764706 0.34901961 0.36078431 0.34509804\n",
      "   0.27058824 0.42352941 0.76470588 0.81568627 0.8        0.79607843\n",
      "   0.79607843 0.78823529 0.78431373 0.78431373 0.78039216 0.76862745\n",
      "   0.76470588 0.76470588 0.75686275 0.75294118]\n",
      "  [0.79215686 0.70196078 0.59607843 0.54901961 0.4627451  0.33333333\n",
      "   0.29411765 0.30588235 0.32156863 0.30196078 0.29411765 0.34117647\n",
      "   0.55686275 0.79607843 0.81568627 0.80392157 0.79607843 0.8\n",
      "   0.79607843 0.78823529 0.78431373 0.78431373 0.78039216 0.77647059\n",
      "   0.76862745 0.76470588 0.76078431 0.75686275]\n",
      "  [0.77647059 0.65098039 0.51764706 0.44705882 0.34901961 0.29019608\n",
      "   0.30980392 0.30196078 0.29019608 0.30588235 0.51764706 0.7372549\n",
      "   0.82352941 0.81960784 0.80784314 0.80392157 0.8        0.79607843\n",
      "   0.79215686 0.78823529 0.78431373 0.78039216 0.77647059 0.78039216\n",
      "   0.77647059 0.76470588 0.76078431 0.76470588]]]\n"
     ]
    }
   ],
   "source": [
    "print(\"First 3 samples in features_scaled:\")  \n",
    "for i in range(3):  \n",
    "    print(features_scaled[i])  "
   ]
  },
  {
   "cell_type": "code",
   "execution_count": 30,
   "metadata": {},
   "outputs": [
    {
     "name": "stdout",
     "output_type": "stream",
     "text": [
      "\n",
      "First 3 samples in features_test_scaled:\n",
      "[[[0.58431373 0.58431373 0.58823529 0.58823529 0.58823529 0.59215686\n",
      "   0.59215686 0.58823529 0.59215686 0.59607843 0.59607843 0.59607843\n",
      "   0.59607843 0.59607843 0.6        0.6        0.59215686 0.59607843\n",
      "   0.59607843 0.6        0.59607843 0.59607843 0.59215686 0.59215686\n",
      "   0.58823529 0.58823529 0.58823529 0.58431373]\n",
      "  [0.58823529 0.58823529 0.58823529 0.59607843 0.59607843 0.59215686\n",
      "   0.59607843 0.59607843 0.59607843 0.59607843 0.59607843 0.6\n",
      "   0.60392157 0.6        0.60392157 0.60392157 0.6        0.60392157\n",
      "   0.6        0.60392157 0.6        0.6        0.59607843 0.59607843\n",
      "   0.59607843 0.59215686 0.58823529 0.59215686]\n",
      "  [0.58823529 0.59215686 0.59215686 0.59607843 0.59607843 0.59607843\n",
      "   0.6        0.6        0.59607843 0.59607843 0.59607843 0.6\n",
      "   0.60392157 0.60392157 0.60784314 0.60784314 0.60392157 0.60392157\n",
      "   0.60784314 0.60784314 0.60784314 0.60784314 0.60392157 0.6\n",
      "   0.6        0.59215686 0.59215686 0.59607843]\n",
      "  [0.58823529 0.59215686 0.59215686 0.59607843 0.59607843 0.59607843\n",
      "   0.60392157 0.60392157 0.60392157 0.60392157 0.60392157 0.6\n",
      "   0.60392157 0.60784314 0.61176471 0.61568627 0.61568627 0.61176471\n",
      "   0.60784314 0.61176471 0.60784314 0.60392157 0.60392157 0.60784314\n",
      "   0.59607843 0.60392157 0.6        0.6       ]\n",
      "  [0.59215686 0.59607843 0.59607843 0.59607843 0.60392157 0.60392157\n",
      "   0.60392157 0.60392157 0.60392157 0.60784314 0.61568627 0.61176471\n",
      "   0.61176471 0.61176471 0.60392157 0.58823529 0.57254902 0.57647059\n",
      "   0.57254902 0.57647059 0.56078431 0.5372549  0.49411765 0.49411765\n",
      "   0.55686275 0.54509804 0.59607843 0.60392157]\n",
      "  [0.59607843 0.6        0.6        0.60392157 0.60392157 0.60784314\n",
      "   0.60392157 0.60784314 0.60784314 0.60392157 0.6        0.58823529\n",
      "   0.56470588 0.56078431 0.56862745 0.54509804 0.55686275 0.56470588\n",
      "   0.61568627 0.61568627 0.57647059 0.54509804 0.50196078 0.46666667\n",
      "   0.50980392 0.44313725 0.57647059 0.61176471]\n",
      "  [0.59215686 0.6        0.6        0.60784314 0.60784314 0.61176471\n",
      "   0.60784314 0.59607843 0.56862745 0.54509804 0.55294118 0.55294118\n",
      "   0.55294118 0.6        0.6        0.56078431 0.52941176 0.5372549\n",
      "   0.54509804 0.52156863 0.4745098  0.41960784 0.39607843 0.40784314\n",
      "   0.43137255 0.49803922 0.61568627 0.61176471]\n",
      "  [0.59215686 0.59607843 0.6        0.60784314 0.60784314 0.60392157\n",
      "   0.59215686 0.57254902 0.54509804 0.51372549 0.50980392 0.5254902\n",
      "   0.5372549  0.51764706 0.49019608 0.43529412 0.39607843 0.36862745\n",
      "   0.37254902 0.41176471 0.44313725 0.47843137 0.52156863 0.56862745\n",
      "   0.6        0.61568627 0.61176471 0.61176471]\n",
      "  [0.59607843 0.59607843 0.60392157 0.59607843 0.59215686 0.58823529\n",
      "   0.58431373 0.58431373 0.54509804 0.47843137 0.40784314 0.38431373\n",
      "   0.36078431 0.32156863 0.31764706 0.31764706 0.33333333 0.44705882\n",
      "   0.56862745 0.61568627 0.62745098 0.63529412 0.63137255 0.62352941\n",
      "   0.61568627 0.61176471 0.61176471 0.61176471]\n",
      "  [0.59215686 0.59215686 0.58823529 0.57254902 0.56862745 0.57647059\n",
      "   0.58039216 0.57647059 0.56862745 0.51764706 0.38039216 0.27843137\n",
      "   0.24313725 0.25882353 0.34509804 0.45490196 0.56862745 0.63529412\n",
      "   0.62745098 0.62352941 0.61568627 0.60784314 0.61176471 0.61568627\n",
      "   0.61568627 0.61176471 0.60784314 0.60784314]\n",
      "  [0.59215686 0.56862745 0.56470588 0.56862745 0.57647059 0.56862745\n",
      "   0.57647059 0.58823529 0.58823529 0.48627451 0.36078431 0.26666667\n",
      "   0.24705882 0.2627451  0.3372549  0.62352941 0.63921569 0.60784314\n",
      "   0.61960784 0.61568627 0.61176471 0.61176471 0.61568627 0.61176471\n",
      "   0.61176471 0.61176471 0.60784314 0.60392157]\n",
      "  [0.56078431 0.56470588 0.56862745 0.56862745 0.56078431 0.57647059\n",
      "   0.59607843 0.59607843 0.50196078 0.35294118 0.30980392 0.26666667\n",
      "   0.25098039 0.2745098  0.2627451  0.32941176 0.57647059 0.64313725\n",
      "   0.61568627 0.61960784 0.61568627 0.61568627 0.61568627 0.61176471\n",
      "   0.61568627 0.61176471 0.61176471 0.60784314]\n",
      "  [0.56862745 0.57254902 0.56078431 0.56862745 0.56862745 0.58823529\n",
      "   0.58431373 0.58431373 0.54509804 0.4627451  0.33333333 0.24313725\n",
      "   0.24313725 0.29411765 0.28627451 0.24313725 0.2627451  0.54901961\n",
      "   0.64313725 0.61568627 0.61960784 0.61960784 0.61960784 0.61960784\n",
      "   0.61568627 0.61568627 0.61176471 0.61176471]\n",
      "  [0.58823529 0.57647059 0.56470588 0.57647059 0.58431373 0.58039216\n",
      "   0.58431373 0.61960784 0.61960784 0.53333333 0.36862745 0.24705882\n",
      "   0.22745098 0.27058824 0.33333333 0.32156863 0.2627451  0.2745098\n",
      "   0.61176471 0.62745098 0.62352941 0.62745098 0.62352941 0.61960784\n",
      "   0.61568627 0.61176471 0.61176471 0.61176471]\n",
      "  [0.57647059 0.58039216 0.57647059 0.56862745 0.58039216 0.59607843\n",
      "   0.59215686 0.62745098 0.6        0.46666667 0.3372549  0.25882353\n",
      "   0.25098039 0.24705882 0.27058824 0.29411765 0.30588235 0.22352941\n",
      "   0.50980392 0.64705882 0.61960784 0.62352941 0.61960784 0.62352941\n",
      "   0.61960784 0.61568627 0.61568627 0.61568627]\n",
      "  [0.58431373 0.58039216 0.57254902 0.56862745 0.57647059 0.58431373\n",
      "   0.57254902 0.59215686 0.56470588 0.43137255 0.30588235 0.25490196\n",
      "   0.25882353 0.25882353 0.22745098 0.23137255 0.25098039 0.30980392\n",
      "   0.58823529 0.64705882 0.63529412 0.63529412 0.63529412 0.63529412\n",
      "   0.63137255 0.63137255 0.61960784 0.61176471]\n",
      "  [0.59215686 0.57254902 0.56078431 0.55294118 0.54117647 0.54901961\n",
      "   0.55686275 0.57254902 0.56470588 0.4745098  0.32941176 0.21960784\n",
      "   0.24313725 0.2745098  0.27843137 0.26666667 0.22352941 0.45882353\n",
      "   0.56470588 0.56470588 0.57647059 0.58431373 0.59607843 0.58823529\n",
      "   0.57254902 0.57254902 0.60392157 0.62745098]\n",
      "  [0.57647059 0.56470588 0.56078431 0.55686275 0.54901961 0.55686275\n",
      "   0.57254902 0.59215686 0.60392157 0.51372549 0.33333333 0.23137255\n",
      "   0.2        0.23529412 0.33333333 0.27058824 0.25098039 0.29803922\n",
      "   0.29411765 0.30980392 0.31764706 0.30980392 0.29803922 0.3254902\n",
      "   0.43921569 0.55294118 0.63921569 0.63921569]\n",
      "  [0.56470588 0.58039216 0.57647059 0.56862745 0.56862745 0.58039216\n",
      "   0.58823529 0.60784314 0.59215686 0.46666667 0.29019608 0.24313725\n",
      "   0.24705882 0.21568627 0.24313725 0.28235294 0.28627451 0.30196078\n",
      "   0.29019608 0.28627451 0.26666667 0.34509804 0.44313725 0.54117647\n",
      "   0.63529412 0.63529412 0.65882353 0.65882353]\n",
      "  [0.57254902 0.57254902 0.55686275 0.55294118 0.55294118 0.54117647\n",
      "   0.5254902  0.55686275 0.48627451 0.37647059 0.29411765 0.2627451\n",
      "   0.25490196 0.24705882 0.24313725 0.30588235 0.34117647 0.29803922\n",
      "   0.32941176 0.37647059 0.49411765 0.63529412 0.6745098  0.60784314\n",
      "   0.56470588 0.58431373 0.59215686 0.63137255]\n",
      "  [0.55686275 0.53333333 0.51764706 0.5254902  0.49803922 0.46666667\n",
      "   0.4627451  0.46666667 0.40392157 0.34117647 0.30196078 0.28627451\n",
      "   0.2745098  0.24313725 0.25098039 0.28235294 0.36470588 0.5254902\n",
      "   0.60784314 0.62745098 0.65098039 0.61176471 0.58823529 0.59215686\n",
      "   0.56078431 0.53333333 0.56862745 0.58431373]\n",
      "  [0.50980392 0.51764706 0.49803922 0.47058824 0.44705882 0.43137255\n",
      "   0.42745098 0.41176471 0.35686275 0.30196078 0.29019608 0.29411765\n",
      "   0.29019608 0.25490196 0.28627451 0.44313725 0.65098039 0.69411765\n",
      "   0.66666667 0.63137255 0.59607843 0.55294118 0.5254902  0.53333333\n",
      "   0.54901961 0.52156863 0.49803922 0.50980392]\n",
      "  [0.44313725 0.45490196 0.45098039 0.41568627 0.39607843 0.37254902\n",
      "   0.3372549  0.32941176 0.33333333 0.30196078 0.30588235 0.29019608\n",
      "   0.29803922 0.40392157 0.59607843 0.70196078 0.66666667 0.61568627\n",
      "   0.60784314 0.59215686 0.54901961 0.50588235 0.49411765 0.49411765\n",
      "   0.52156863 0.50980392 0.47843137 0.49019608]\n",
      "  [0.31764706 0.3372549  0.33333333 0.3254902  0.29803922 0.28235294\n",
      "   0.28627451 0.29803922 0.30196078 0.30980392 0.27843137 0.39607843\n",
      "   0.59215686 0.69803922 0.69411765 0.66666667 0.63137255 0.59607843\n",
      "   0.57647059 0.59215686 0.52156863 0.45098039 0.4745098  0.4745098\n",
      "   0.48627451 0.49411765 0.47843137 0.47843137]\n",
      "  [0.23921569 0.23921569 0.2627451  0.27058824 0.2745098  0.29411765\n",
      "   0.30588235 0.30588235 0.31764706 0.26666667 0.44313725 0.64705882\n",
      "   0.68235294 0.6627451  0.63529412 0.61568627 0.58431373 0.58039216\n",
      "   0.58039216 0.58039216 0.49411765 0.39215686 0.44313725 0.45882353\n",
      "   0.44313725 0.47843137 0.4627451  0.45098039]\n",
      "  [0.27058824 0.27058824 0.30196078 0.30588235 0.29411765 0.29803922\n",
      "   0.30588235 0.30980392 0.2627451  0.47058824 0.67843137 0.61568627\n",
      "   0.62352941 0.58039216 0.60784314 0.58823529 0.54117647 0.56078431\n",
      "   0.58039216 0.58431373 0.48235294 0.35686275 0.39607843 0.43529412\n",
      "   0.43529412 0.45490196 0.44313725 0.4627451 ]\n",
      "  [0.29019608 0.29411765 0.29803922 0.29411765 0.29411765 0.29803922\n",
      "   0.29411765 0.26666667 0.48627451 0.6745098  0.59607843 0.57254902\n",
      "   0.57254902 0.57254902 0.59607843 0.55686275 0.51372549 0.5254902\n",
      "   0.56470588 0.57647059 0.49019608 0.34117647 0.34117647 0.40392157\n",
      "   0.41960784 0.43137255 0.45490196 0.44313725]\n",
      "  [0.29411765 0.29019608 0.29019608 0.29019608 0.29803922 0.29019608\n",
      "   0.32156863 0.5254902  0.65882353 0.60784314 0.57254902 0.5372549\n",
      "   0.56862745 0.57254902 0.58431373 0.52941176 0.48627451 0.49019608\n",
      "   0.54117647 0.58039216 0.49803922 0.34901961 0.32156863 0.37647059\n",
      "   0.41568627 0.43921569 0.47058824 0.41960784]]]\n",
      "[[[0.49411765 0.50196078 0.51372549 0.51764706 0.52156863 0.5254902\n",
      "   0.52941176 0.52941176 0.53333333 0.54117647 0.5372549  0.5372549\n",
      "   0.54117647 0.54117647 0.54509804 0.5372549  0.55686275 0.54901961\n",
      "   0.54117647 0.54509804 0.5372549  0.5372549  0.53333333 0.52941176\n",
      "   0.5254902  0.52156863 0.5254902  0.51764706]\n",
      "  [0.50588235 0.51764706 0.5254902  0.52941176 0.52941176 0.5372549\n",
      "   0.54509804 0.54509804 0.54509804 0.54901961 0.55294118 0.55294118\n",
      "   0.55686275 0.56078431 0.55686275 0.55686275 0.45490196 0.54117647\n",
      "   0.55294118 0.54901961 0.55294118 0.54901961 0.54509804 0.54117647\n",
      "   0.5372549  0.53333333 0.53333333 0.5254902 ]\n",
      "  [0.52156863 0.52941176 0.54117647 0.54509804 0.54509804 0.55294118\n",
      "   0.55686275 0.56078431 0.55686275 0.56078431 0.56862745 0.56862745\n",
      "   0.56078431 0.56862745 0.56862745 0.61960784 0.36862745 0.4627451\n",
      "   0.59215686 0.56078431 0.56470588 0.56470588 0.55686275 0.55294118\n",
      "   0.55294118 0.54901961 0.54509804 0.54117647]\n",
      "  [0.5372549  0.54509804 0.55686275 0.55686275 0.55686275 0.56470588\n",
      "   0.57254902 0.57254902 0.57254902 0.57647059 0.57647059 0.57647059\n",
      "   0.58039216 0.45882353 0.50196078 0.65882353 0.39607843 0.38431373\n",
      "   0.61568627 0.57254902 0.57647059 0.57254902 0.57254902 0.56862745\n",
      "   0.56470588 0.56078431 0.55686275 0.55294118]\n",
      "  [0.54901961 0.55686275 0.56862745 0.57254902 0.57647059 0.58039216\n",
      "   0.58431373 0.58431373 0.58431373 0.59215686 0.59215686 0.58431373\n",
      "   0.63137255 0.44705882 0.38823529 0.68235294 0.38823529 0.32941176\n",
      "   0.63529412 0.58431373 0.59215686 0.58431373 0.58039216 0.57647059\n",
      "   0.57254902 0.57254902 0.56862745 0.56470588]\n",
      "  [0.56078431 0.56862745 0.58431373 0.58823529 0.58823529 0.59215686\n",
      "   0.6        0.6        0.60392157 0.6        0.60392157 0.59607843\n",
      "   0.65490196 0.49411765 0.34509804 0.6627451  0.38823529 0.34117647\n",
      "   0.64313725 0.59607843 0.6        0.59607843 0.59215686 0.58823529\n",
      "   0.58431373 0.58039216 0.58039216 0.57647059]\n",
      "  [0.56862745 0.57647059 0.59215686 0.59607843 0.6        0.60784314\n",
      "   0.60784314 0.60784314 0.59215686 0.60392157 0.61960784 0.60784314\n",
      "   0.66666667 0.50980392 0.30980392 0.65098039 0.43529412 0.36470588\n",
      "   0.65098039 0.61176471 0.61568627 0.61176471 0.60784314 0.6\n",
      "   0.59607843 0.59607843 0.59607843 0.58823529]\n",
      "  [0.58431373 0.58823529 0.6        0.60784314 0.60784314 0.61960784\n",
      "   0.61568627 0.63921569 0.50588235 0.47058824 0.65098039 0.61176471\n",
      "   0.67058824 0.54901961 0.32156863 0.63529412 0.4        0.38039216\n",
      "   0.65882353 0.61960784 0.62745098 0.61960784 0.63529412 0.62745098\n",
      "   0.60392157 0.60392157 0.60392157 0.59607843]\n",
      "  [0.59215686 0.59607843 0.61176471 0.61960784 0.62352941 0.62352941\n",
      "   0.61960784 0.64313725 0.54509804 0.35686275 0.64705882 0.62352941\n",
      "   0.68235294 0.56470588 0.27843137 0.61176471 0.37647059 0.39215686\n",
      "   0.67058824 0.63137255 0.63137255 0.61960784 0.50196078 0.56862745\n",
      "   0.63529412 0.61176471 0.60784314 0.60784314]\n",
      "  [0.59607843 0.60784314 0.62352941 0.62745098 0.63137255 0.63137255\n",
      "   0.62745098 0.65882353 0.61960784 0.29803922 0.62352941 0.64313725\n",
      "   0.6745098  0.55686275 0.24705882 0.60784314 0.45882353 0.39215686\n",
      "   0.68235294 0.62352941 0.64313725 0.64313725 0.49411765 0.40392157\n",
      "   0.63529412 0.63137255 0.61960784 0.61568627]\n",
      "  [0.6        0.61568627 0.62745098 0.63529412 0.63529412 0.63529412\n",
      "   0.64313725 0.65490196 0.61960784 0.30588235 0.61960784 0.65490196\n",
      "   0.65490196 0.61176471 0.28627451 0.52156863 0.50588235 0.4\n",
      "   0.6745098  0.61568627 0.58039216 0.50980392 0.61176471 0.51764706\n",
      "   0.50588235 0.63921569 0.63137255 0.62352941]\n",
      "  [0.61568627 0.62352941 0.63529412 0.64313725 0.64313725 0.64705882\n",
      "   0.65098039 0.65490196 0.67843137 0.34901961 0.54509804 0.6745098\n",
      "   0.63529412 0.63921569 0.30980392 0.38431373 0.51764706 0.43529412\n",
      "   0.66666667 0.62745098 0.55686275 0.21176471 0.49019608 0.58823529\n",
      "   0.4        0.58823529 0.65490196 0.63529412]\n",
      "  [0.62352941 0.63137255 0.65098039 0.64705882 0.65490196 0.65490196\n",
      "   0.65490196 0.65882353 0.69803922 0.4627451  0.43921569 0.68627451\n",
      "   0.64313725 0.65490196 0.32156863 0.35686275 0.50588235 0.43137255\n",
      "   0.62745098 0.61176471 0.50980392 0.37647059 0.61568627 0.50980392\n",
      "   0.41568627 0.6627451  0.64705882 0.64313725]\n",
      "  [0.62352941 0.63529412 0.65098039 0.65490196 0.65882353 0.65882353\n",
      "   0.66666667 0.6627451  0.64313725 0.65882353 0.51764706 0.55294118\n",
      "   0.63529412 0.6        0.40392157 0.44313725 0.45882353 0.37647059\n",
      "   0.52156863 0.56078431 0.41960784 0.57647059 0.6745098  0.38823529\n",
      "   0.54509804 0.68235294 0.64705882 0.65098039]\n",
      "  [0.63137255 0.64313725 0.65490196 0.66666667 0.67058824 0.67058824\n",
      "   0.66666667 0.67843137 0.62745098 0.67843137 0.63529412 0.50588235\n",
      "   0.51764706 0.51764706 0.42745098 0.42745098 0.42352941 0.38823529\n",
      "   0.52941176 0.55686275 0.43529412 0.63921569 0.60392157 0.30196078\n",
      "   0.61176471 0.6745098  0.65490196 0.65490196]\n",
      "  [0.64705882 0.65490196 0.65882353 0.67058824 0.6745098  0.67843137\n",
      "   0.67843137 0.68235294 0.6627451  0.66666667 0.71372549 0.58823529\n",
      "   0.49019608 0.48627451 0.39215686 0.41568627 0.40392157 0.4\n",
      "   0.50980392 0.54117647 0.48627451 0.69803922 0.50980392 0.25098039\n",
      "   0.65882353 0.6745098  0.66666667 0.6627451 ]\n",
      "  [0.64705882 0.65882353 0.66666667 0.67058824 0.6745098  0.68235294\n",
      "   0.68627451 0.68235294 0.68627451 0.6745098  0.76470588 0.66666667\n",
      "   0.44705882 0.43137255 0.36862745 0.34901961 0.38431373 0.41176471\n",
      "   0.49803922 0.5254902  0.48627451 0.71372549 0.49411765 0.31372549\n",
      "   0.70588235 0.67058824 0.67058824 0.67058824]\n",
      "  [0.65098039 0.6627451  0.67058824 0.6745098  0.67843137 0.68235294\n",
      "   0.68627451 0.69019608 0.69411765 0.68235294 0.77254902 0.70196078\n",
      "   0.46666667 0.3372549  0.34117647 0.31764706 0.36862745 0.4627451\n",
      "   0.53333333 0.48235294 0.45490196 0.69411765 0.49803922 0.36862745\n",
      "   0.71764706 0.6745098  0.67843137 0.67843137]\n",
      "  [0.6627451  0.6745098  0.6745098  0.68235294 0.68627451 0.68235294\n",
      "   0.69411765 0.69803922 0.69803922 0.68627451 0.75294118 0.69019608\n",
      "   0.49411765 0.34117647 0.3372549  0.32156863 0.42745098 0.50980392\n",
      "   0.57647059 0.62352941 0.50196078 0.64313725 0.50196078 0.39215686\n",
      "   0.72156863 0.68235294 0.67843137 0.67843137]\n",
      "  [0.6627451  0.6745098  0.67843137 0.67843137 0.69019608 0.69803922\n",
      "   0.70196078 0.69803922 0.70980392 0.68627451 0.74117647 0.67058824\n",
      "   0.49411765 0.34901961 0.31372549 0.35294118 0.4745098  0.5372549\n",
      "   0.64313725 0.68627451 0.55294118 0.54901961 0.42352941 0.37254902\n",
      "   0.72156863 0.69019608 0.68627451 0.67843137]\n",
      "  [0.67058824 0.67843137 0.68235294 0.68627451 0.69411765 0.70196078\n",
      "   0.70196078 0.70196078 0.70980392 0.68235294 0.74117647 0.67058824\n",
      "   0.5254902  0.35686275 0.31372549 0.38431373 0.5254902  0.62352941\n",
      "   0.64313725 0.65490196 0.6        0.44705882 0.28627451 0.32156863\n",
      "   0.7254902  0.69019608 0.69411765 0.69411765]\n",
      "  [0.6745098  0.67843137 0.68235294 0.69411765 0.69803922 0.70196078\n",
      "   0.70588235 0.70588235 0.71764706 0.68235294 0.72941176 0.6745098\n",
      "   0.54117647 0.36470588 0.32156863 0.38039216 0.56078431 0.6745098\n",
      "   0.6627451  0.62745098 0.51764706 0.34901961 0.17254902 0.42352941\n",
      "   0.74117647 0.69019608 0.69803922 0.69803922]\n",
      "  [0.67058824 0.67843137 0.69411765 0.69803922 0.70196078 0.70588235\n",
      "   0.70980392 0.71372549 0.7254902  0.69803922 0.70196078 0.66666667\n",
      "   0.5372549  0.37254902 0.34509804 0.35294118 0.59607843 0.70588235\n",
      "   0.65490196 0.55294118 0.43921569 0.25490196 0.25098039 0.69019608\n",
      "   0.71764706 0.70196078 0.70196078 0.69803922]\n",
      "  [0.67843137 0.68235294 0.69803922 0.70196078 0.70196078 0.70588235\n",
      "   0.71372549 0.71764706 0.72941176 0.68627451 0.64705882 0.65882353\n",
      "   0.5372549  0.39215686 0.37647059 0.34509804 0.58431373 0.65882353\n",
      "   0.57647059 0.47843137 0.36078431 0.19607843 0.56470588 0.75686275\n",
      "   0.70980392 0.70980392 0.70588235 0.70196078]\n",
      "  [0.67843137 0.68235294 0.69411765 0.70196078 0.70588235 0.70588235\n",
      "   0.71764706 0.71372549 0.73333333 0.69411765 0.61960784 0.63137255\n",
      "   0.50980392 0.43529412 0.39607843 0.35686275 0.53333333 0.58823529\n",
      "   0.52941176 0.43921569 0.24313725 0.34117647 0.75294118 0.71764706\n",
      "   0.7254902  0.71764706 0.70980392 0.70588235]\n",
      "  [0.67843137 0.68235294 0.69411765 0.69803922 0.70196078 0.70196078\n",
      "   0.70980392 0.71372549 0.72156863 0.70196078 0.61176471 0.59215686\n",
      "   0.48627451 0.45490196 0.37647059 0.34509804 0.50196078 0.54117647\n",
      "   0.49411765 0.31764706 0.19215686 0.64313725 0.74509804 0.72156863\n",
      "   0.7254902  0.72156863 0.71372549 0.70980392]\n",
      "  [0.6745098  0.68235294 0.69411765 0.69803922 0.69803922 0.69803922\n",
      "   0.70588235 0.71372549 0.72156863 0.69411765 0.62745098 0.60392157\n",
      "   0.50196078 0.44705882 0.38039216 0.30588235 0.44705882 0.43921569\n",
      "   0.34901961 0.18823529 0.52156863 0.76078431 0.71372549 0.7254902\n",
      "   0.72156863 0.72156863 0.71372549 0.70980392]\n",
      "  [0.6745098  0.68235294 0.69411765 0.69803922 0.69803922 0.70196078\n",
      "   0.70980392 0.71764706 0.73333333 0.68627451 0.64705882 0.60392157\n",
      "   0.4627451  0.41960784 0.39215686 0.29411765 0.37647059 0.3254902\n",
      "   0.18431373 0.40784314 0.76078431 0.71764706 0.72941176 0.72156863\n",
      "   0.72156863 0.72156863 0.71372549 0.70588235]]]\n",
      "[[[0.33333333 0.34509804 0.36078431 0.37647059 0.41176471 0.48235294\n",
      "   0.52941176 0.56078431 0.57647059 0.59607843 0.61568627 0.63921569\n",
      "   0.65882353 0.67058824 0.71372549 0.6745098  0.68627451 0.7254902\n",
      "   0.71764706 0.72156863 0.7254902  0.7254902  0.7254902  0.71764706\n",
      "   0.71764706 0.71372549 0.70980392 0.69803922]\n",
      "  [0.3372549  0.34509804 0.36470588 0.37647059 0.42352941 0.49019608\n",
      "   0.5372549  0.56862745 0.58431373 0.60392157 0.62745098 0.65098039\n",
      "   0.66666667 0.68235294 0.84313725 0.60392157 0.55686275 0.74509804\n",
      "   0.72156863 0.72156863 0.72941176 0.73333333 0.7254902  0.72156863\n",
      "   0.71764706 0.71764706 0.70980392 0.70196078]\n",
      "  [0.3372549  0.34901961 0.36470588 0.38431373 0.43137255 0.49803922\n",
      "   0.54117647 0.57647059 0.58823529 0.60784314 0.63529412 0.6627451\n",
      "   0.67058824 0.71764706 0.83921569 0.63529412 0.48235294 0.73333333\n",
      "   0.7372549  0.73333333 0.74117647 0.7372549  0.73333333 0.72941176\n",
      "   0.7254902  0.7254902  0.71764706 0.70980392]\n",
      "  [0.34509804 0.35686275 0.37254902 0.38823529 0.43529412 0.50196078\n",
      "   0.55294118 0.58431373 0.59607843 0.61568627 0.64705882 0.67058824\n",
      "   0.68627451 0.72156863 0.84313725 0.71372549 0.45490196 0.70196078\n",
      "   0.75686275 0.74509804 0.74901961 0.74509804 0.74117647 0.72941176\n",
      "   0.73333333 0.72941176 0.72941176 0.71764706]\n",
      "  [0.34509804 0.36078431 0.37647059 0.38823529 0.44313725 0.50980392\n",
      "   0.56470588 0.59215686 0.60392157 0.62745098 0.65490196 0.67843137\n",
      "   0.70588235 0.70980392 0.84313725 0.80784314 0.50196078 0.6627451\n",
      "   0.77647059 0.75294118 0.75294118 0.75294118 0.74901961 0.74901961\n",
      "   0.74901961 0.7372549  0.73333333 0.72941176]\n",
      "  [0.34901961 0.36470588 0.38431373 0.39607843 0.45490196 0.52156863\n",
      "   0.56862745 0.59607843 0.60784314 0.63529412 0.6627451  0.68627451\n",
      "   0.70980392 0.71372549 0.88627451 0.85098039 0.54117647 0.61568627\n",
      "   0.79607843 0.75686275 0.76078431 0.76470588 0.75686275 0.75686275\n",
      "   0.75686275 0.74901961 0.74117647 0.73333333]\n",
      "  [0.35686275 0.36862745 0.38823529 0.4        0.4627451  0.52941176\n",
      "   0.57647059 0.60392157 0.61568627 0.64313725 0.6745098  0.70196078\n",
      "   0.7254902  0.71764706 0.88235294 0.83529412 0.58039216 0.57254902\n",
      "   0.80392157 0.76862745 0.77254902 0.77647059 0.76862745 0.76862745\n",
      "   0.76470588 0.75686275 0.74901961 0.74509804]\n",
      "  [0.35686275 0.37254902 0.39215686 0.39607843 0.4627451  0.53333333\n",
      "   0.58431373 0.61176471 0.62352941 0.65490196 0.68235294 0.70588235\n",
      "   0.72941176 0.72156863 0.89411765 0.8745098  0.58039216 0.50196078\n",
      "   0.80392157 0.78039216 0.78431373 0.78431373 0.78039216 0.77254902\n",
      "   0.76862745 0.76862745 0.75686275 0.75686275]\n",
      "  [0.35686275 0.36862745 0.38823529 0.4        0.47058824 0.54509804\n",
      "   0.59607843 0.61568627 0.63137255 0.65490196 0.69019608 0.72156863\n",
      "   0.73333333 0.72941176 0.90980392 0.90980392 0.63137255 0.43921569\n",
      "   0.78823529 0.79215686 0.78823529 0.78823529 0.78431373 0.78039216\n",
      "   0.78039216 0.77647059 0.76470588 0.76470588]\n",
      "  [0.36078431 0.37254902 0.39215686 0.40784314 0.48235294 0.54117647\n",
      "   0.59607843 0.63921569 0.64705882 0.69411765 0.81960784 0.58823529\n",
      "   0.66666667 0.76078431 0.8745098  0.82745098 0.63529412 0.39607843\n",
      "   0.73333333 0.81568627 0.79607843 0.79607843 0.79607843 0.79215686\n",
      "   0.78823529 0.78431373 0.77647059 0.77647059]\n",
      "  [0.36078431 0.38039216 0.39607843 0.41568627 0.47058824 0.62352941\n",
      "   0.75686275 0.58823529 0.45490196 0.63137255 0.75686275 0.40392157\n",
      "   0.49803922 0.8        0.83921569 0.74901961 0.58039216 0.35686275\n",
      "   0.65882353 0.83921569 0.80392157 0.80784314 0.80392157 0.79607843\n",
      "   0.79607843 0.79607843 0.78823529 0.78431373]\n",
      "  [0.36470588 0.38039216 0.39607843 0.42352941 0.46666667 0.69019608\n",
      "   0.74901961 0.43529412 0.3372549  0.38823529 0.55294118 0.40784314\n",
      "   0.25882353 0.64313725 0.80392157 0.65490196 0.61568627 0.37254902\n",
      "   0.62745098 0.85490196 0.80784314 0.81176471 0.81176471 0.80392157\n",
      "   0.8        0.8        0.79215686 0.79215686]\n",
      "  [0.36470588 0.38431373 0.39215686 0.42352941 0.49411765 0.58823529\n",
      "   0.59215686 0.44313725 0.39215686 0.35294118 0.50196078 0.44313725\n",
      "   0.27843137 0.28235294 0.50196078 0.52156863 0.65098039 0.4627451\n",
      "   0.53333333 0.8627451  0.81176471 0.81568627 0.81568627 0.81568627\n",
      "   0.80784314 0.80392157 0.80392157 0.79607843]\n",
      "  [0.36862745 0.38431373 0.39607843 0.42745098 0.50196078 0.56862745\n",
      "   0.62352941 0.63137255 0.60392157 0.55686275 0.56470588 0.46666667\n",
      "   0.39607843 0.2745098  0.28235294 0.36470588 0.50980392 0.48627451\n",
      "   0.41176471 0.81960784 0.82745098 0.82352941 0.82352941 0.81960784\n",
      "   0.81568627 0.81568627 0.81176471 0.80392157]\n",
      "  [0.37254902 0.38431373 0.39607843 0.42745098 0.50588235 0.57647059\n",
      "   0.63529412 0.6627451  0.70980392 0.72941176 0.51764706 0.54117647\n",
      "   0.47058824 0.43529412 0.33333333 0.29411765 0.39215686 0.42352941\n",
      "   0.33333333 0.74509804 0.8627451  0.83529412 0.83137255 0.82352941\n",
      "   0.82352941 0.82352941 0.81568627 0.80784314]\n",
      "  [0.37254902 0.38431373 0.4        0.43137255 0.50588235 0.58039216\n",
      "   0.64313725 0.65490196 0.77647059 0.70980392 0.39607843 0.47058824\n",
      "   0.64705882 0.57254902 0.49019608 0.36862745 0.3254902  0.36470588\n",
      "   0.29411765 0.70196078 0.87843137 0.84313725 0.84313725 0.83921569\n",
      "   0.83529412 0.82745098 0.81960784 0.81176471]\n",
      "  [0.36470588 0.38039216 0.4        0.43921569 0.51764706 0.58431373\n",
      "   0.65098039 0.67843137 0.74117647 0.76470588 0.61960784 0.35686275\n",
      "   0.49803922 0.69019608 0.59607843 0.51764706 0.39607843 0.31372549\n",
      "   0.27058824 0.61176471 0.89411765 0.84313725 0.84705882 0.84705882\n",
      "   0.83921569 0.83137255 0.82352941 0.81568627]\n",
      "  [0.37254902 0.38823529 0.39215686 0.43137255 0.52941176 0.57647059\n",
      "   0.72941176 0.74509804 0.6        0.81176471 0.67058824 0.42352941\n",
      "   0.43137255 0.87058824 0.6627451  0.59607843 0.50196078 0.30980392\n",
      "   0.23921569 0.42352941 0.88627451 0.85098039 0.85490196 0.85490196\n",
      "   0.84705882 0.84313725 0.83529412 0.83137255]\n",
      "  [0.37647059 0.38823529 0.39607843 0.43529412 0.5254902  0.57254902\n",
      "   0.78431373 0.86666667 0.58431373 0.61176471 0.63137255 0.44313725\n",
      "   0.65490196 0.96862745 0.7372549  0.62745098 0.54509804 0.35294118\n",
      "   0.24705882 0.36078431 0.8745098  0.86666667 0.8627451  0.85882353\n",
      "   0.85882353 0.85098039 0.84705882 0.83921569]\n",
      "  [0.37254902 0.38823529 0.39607843 0.43921569 0.52941176 0.58823529\n",
      "   0.73333333 0.87058824 0.6745098  0.44313725 0.65882353 0.59215686\n",
      "   0.67843137 0.96862745 0.72156863 0.6        0.54901961 0.40392157\n",
      "   0.2627451  0.35294118 0.88627451 0.8745098  0.87058824 0.87058824\n",
      "   0.8627451  0.85490196 0.85098039 0.84705882]\n",
      "  [0.37647059 0.38431373 0.39607843 0.44313725 0.53333333 0.60784314\n",
      "   0.65882353 0.76078431 0.72156863 0.48235294 0.66666667 0.78823529\n",
      "   0.69019608 0.89803922 0.76862745 0.61568627 0.52156863 0.41960784\n",
      "   0.29019608 0.34509804 0.88235294 0.87843137 0.87843137 0.87843137\n",
      "   0.87058824 0.8627451  0.85490196 0.85098039]\n",
      "  [0.37254902 0.38431373 0.39607843 0.45098039 0.5372549  0.60784314\n",
      "   0.65490196 0.71764706 0.7254902  0.49019608 0.6627451  0.98039216\n",
      "   0.60392157 0.77254902 0.78823529 0.6745098  0.50980392 0.4\n",
      "   0.31764706 0.3372549  0.87843137 0.88627451 0.88235294 0.87843137\n",
      "   0.87843137 0.87058824 0.8627451  0.85490196]\n",
      "  [0.36862745 0.38039216 0.39215686 0.45098039 0.5372549  0.61176471\n",
      "   0.67058824 0.67843137 0.77647059 0.63921569 0.74509804 0.67843137\n",
      "   0.39215686 0.63529412 0.78431373 0.63137255 0.49019608 0.38431373\n",
      "   0.31372549 0.37254902 0.89411765 0.89019608 0.88627451 0.88235294\n",
      "   0.87843137 0.8745098  0.86666667 0.85882353]\n",
      "  [0.37647059 0.38823529 0.39215686 0.44705882 0.54117647 0.61568627\n",
      "   0.67843137 0.68235294 0.74509804 0.88235294 0.76078431 0.45490196\n",
      "   0.49019608 0.72156863 0.71764706 0.58823529 0.45882353 0.36862745\n",
      "   0.30196078 0.43921569 0.9254902  0.88627451 0.89803922 0.89019608\n",
      "   0.88235294 0.87843137 0.86666667 0.8627451 ]\n",
      "  [0.36470588 0.38039216 0.38823529 0.45098039 0.54117647 0.61568627\n",
      "   0.66666667 0.68627451 0.69411765 0.82745098 0.87058824 0.77254902\n",
      "   0.6745098  0.74901961 0.63921569 0.52941176 0.43137255 0.38039216\n",
      "   0.29803922 0.51764706 0.9372549  0.87843137 0.89019608 0.89019608\n",
      "   0.88235294 0.87843137 0.8745098  0.87058824]\n",
      "  [0.35686275 0.36862745 0.38039216 0.44705882 0.5372549  0.61176471\n",
      "   0.66666667 0.6745098  0.70588235 0.78039216 0.85098039 0.78431373\n",
      "   0.61568627 0.62745098 0.57647059 0.47843137 0.43921569 0.41960784\n",
      "   0.31372549 0.56862745 0.9372549  0.88235294 0.89019608 0.89019608\n",
      "   0.88235294 0.87843137 0.87058824 0.86666667]\n",
      "  [0.35294118 0.36078431 0.37647059 0.44705882 0.54117647 0.60784314\n",
      "   0.67058824 0.68235294 0.7254902  0.35294118 0.70196078 0.81176471\n",
      "   0.56078431 0.64313725 0.65490196 0.63921569 0.56862745 0.48235294\n",
      "   0.30588235 0.63529412 0.9372549  0.89019608 0.89803922 0.88627451\n",
      "   0.88627451 0.88235294 0.87843137 0.87058824]\n",
      "  [0.34901961 0.35686275 0.36862745 0.43529412 0.53333333 0.60392157\n",
      "   0.65490196 0.72156863 0.49019608 0.01176471 0.65098039 0.88235294\n",
      "   0.76470588 0.7372549  0.6745098  0.7254902  0.63137255 0.47843137\n",
      "   0.26666667 0.65098039 0.94901961 0.89019608 0.90196078 0.89019608\n",
      "   0.88627451 0.88235294 0.87843137 0.87058824]]]\n"
     ]
    }
   ],
   "source": [
    "print(\"\\nFirst 3 samples in features_test_scaled:\")  \n",
    "for i in range(3):  \n",
    "    print(features_test_scaled[i])  "
   ]
  },
  {
   "cell_type": "code",
   "execution_count": 31,
   "metadata": {},
   "outputs": [
    {
     "name": "stdout",
     "output_type": "stream",
     "text": [
      "219640\n",
      "172197760\n"
     ]
    }
   ],
   "source": [
    "print(target.nbytes)\n",
    "print(features_scaled.nbytes)"
   ]
  },
  {
   "cell_type": "markdown",
   "metadata": {},
   "source": [
    "### Converting NumPy arrays to Torch tensors (training)"
   ]
  },
  {
   "cell_type": "code",
   "execution_count": 32,
   "metadata": {},
   "outputs": [],
   "source": [
    "y_train = torch.from_numpy(target).float()\n",
    "x_train = torch.from_numpy(features_scaled).float()"
   ]
  },
  {
   "cell_type": "markdown",
   "metadata": {},
   "source": [
    "### Converting NumPy arrays to Torch tensors (testing)"
   ]
  },
  {
   "cell_type": "code",
   "execution_count": 33,
   "metadata": {},
   "outputs": [],
   "source": [
    "y_test = torch.from_numpy(target_test).float()\n",
    "x_test = torch.from_numpy(features_test_scaled).float()"
   ]
  },
  {
   "cell_type": "markdown",
   "metadata": {},
   "source": [
    "### Initializing a TensorDataset (training)\n"
   ]
  },
  {
   "cell_type": "code",
   "execution_count": 34,
   "metadata": {},
   "outputs": [],
   "source": [
    "sign_lang_mnist_dataset = TensorDataset(x_train, y_train)"
   ]
  },
  {
   "cell_type": "markdown",
   "metadata": {},
   "source": [
    "### Initializing a TensorDataset (testing)\n"
   ]
  },
  {
   "cell_type": "code",
   "execution_count": 35,
   "metadata": {},
   "outputs": [],
   "source": [
    "testing_dataset = TensorDataset(x_test, y_test)"
   ]
  },
  {
   "cell_type": "markdown",
   "metadata": {},
   "source": [
    "### Splitting data into training/validation datasets\n"
   ]
  },
  {
   "cell_type": "code",
   "execution_count": 36,
   "metadata": {},
   "outputs": [],
   "source": [
    "training_dataset = Subset(\n",
    "    sign_lang_mnist_dataset,\n",
    "    torch.arange(5000, len(sign_lang_mnist_dataset)),\n",
    ")\n",
    "\n",
    "validation_dataset = Subset(sign_lang_mnist_dataset, torch.arange(5000))"
   ]
  },
  {
   "cell_type": "code",
   "execution_count": 37,
   "metadata": {},
   "outputs": [
    {
     "data": {
      "text/plain": [
       "(22455, 5000, 7172)"
      ]
     },
     "execution_count": 37,
     "metadata": {},
     "output_type": "execute_result"
    }
   ],
   "source": [
    "len(training_dataset), len(validation_dataset), len(testing_dataset)"
   ]
  },
  {
   "cell_type": "code",
   "execution_count": 38,
   "metadata": {},
   "outputs": [
    {
     "data": {
      "image/png": "[encoded data removed]",
      "text/plain": [
       "<Figure size 1000x600 with 1 Axes>"
      ]
     },
     "metadata": {},
     "output_type": "display_data"
    }
   ],
   "source": [
    "plot_class_distribution_tf(validation_dataset, 'Distribution of classes in validation dataset')"
   ]
  },
  {
   "cell_type": "code",
   "execution_count": 39,
   "metadata": {},
   "outputs": [
    {
     "ename": "",
     "evalue": "",
     "output_type": "error",
     "traceback": [
      "\u001b[1;31mThe Kernel crashed while executing code in the current cell or a previous cell. \n",
      "\u001b[1;31mPlease review the code in the cell(s) to identify a possible cause of the failure. \n",
      "\u001b[1;31mClick <a href='https://aka.ms/vscodeJupyterKernelCrash'>here</a> for more info. \n",
      "\u001b[1;31mView Jupyter <a href='command:jupyter.viewOutput'>log</a> for further details."
     ]
    }
   ],
   "source": [
    "plot_class_distribution_tf(training_dataset, 'Distribution of classes in training dataset')"
   ]
  },
  {
   "cell_type": "code",
   "execution_count": null,
   "metadata": {},
   "outputs": [],
   "source": [
    "plot_class_distribution_tf(testing_dataset, 'Distribution of classes in testing dataset')"
   ]
  },
  {
   "cell_type": "markdown",
   "metadata": {},
   "source": [
    "# Vizualizing data"
   ]
  },
  {
   "cell_type": "markdown",
   "metadata": {},
   "source": [
    "### Plotting image examples"
   ]
  },
  {
   "cell_type": "code",
   "execution_count": null,
   "metadata": {},
   "outputs": [],
   "source": [
    "# Plotting training examples\n",
    "fig = plt.figure(figsize=(15, 6))\n",
    "for i, (data, label) in itertools.islice(enumerate(training_dataset), 10):\n",
    "    ax = fig.add_subplot(2, 5, i + 1)\n",
    "    ax.set_xticks([]); ax.set_yticks([])\n",
    "    ax.imshow(data.numpy().reshape(28, 28), cmap='gray_r')\n",
    "    ax.set_title(f'True label = {int(label)}', size=15)\n",
    "plt.suptitle(\"Training dataset examples\", fontsize=20)\n",
    "plt.tight_layout()\n",
    "plt.show()\n"
   ]
  },
  {
   "cell_type": "code",
   "execution_count": null,
   "metadata": {},
   "outputs": [],
   "source": [
    "# Plotting validation examples\n",
    "fig = plt.figure(figsize=(15, 6))\n",
    "for i, (data, label) in itertools.islice(enumerate(validation_dataset), 10):\n",
    "    ax = fig.add_subplot(2, 5, i + 1)\n",
    "    ax.set_xticks([]); ax.set_yticks([])\n",
    "    ax.imshow(data.numpy().reshape(28, 28), cmap='gray_r')\n",
    "    ax.set_title(f'True label = {int(label)}', size=15)\n",
    "plt.suptitle(\"Validation dataset examples\", fontsize=20)\n",
    "plt.tight_layout()\n",
    "plt.show()"
   ]
  },
  {
   "cell_type": "code",
   "execution_count": null,
   "metadata": {},
   "outputs": [],
   "source": [
    "# Plotting testing examples\n",
    "fig = plt.figure(figsize=(15, 6))\n",
    "for i, (data, label) in itertools.islice(enumerate(testing_dataset), 10):\n",
    "    ax = fig.add_subplot(2, 5, i + 1)\n",
    "    ax.set_xticks([]); ax.set_yticks([])\n",
    "    ax.imshow(data.numpy().reshape(28, 28), cmap='gray_r')\n",
    "    ax.set_title(f'True label = {int(label)}', size=15)\n",
    "plt.suptitle(\"Testing dataset examples\", fontsize=20)\n",
    "plt.tight_layout()\n",
    "plt.show()"
   ]
  },
  {
   "cell_type": "markdown",
   "metadata": {},
   "source": [
    "# Creating Dataloaders"
   ]
  },
  {
   "cell_type": "code",
   "execution_count": null,
   "metadata": {},
   "outputs": [],
   "source": [
    "# Define a set of transformations  \n",
    "transform_train = transforms.Compose([  \n",
    "    transforms.ToPILImage(),  \n",
    "    transforms.RandomHorizontalFlip(),  \n",
    "    transforms.RandomRotation(40),  \n",
    "    transforms.RandomResizedCrop(28, scale=(0.8, 1.2), ratio=(0.75, 1.5), interpolation=InterpolationMode.BILINEAR),  \n",
    "    transforms.RandomAffine(0, shear=20, scale=(0.8,1.2)),  \n",
    "    transforms.ToTensor(),  \n",
    "    #transforms.Normalize((0.5,), (0.5,))  \n",
    "])  \n",
    "\n",
    "transform_test_val = transforms.Compose([  \n",
    "    transforms.ToPILImage(),  \n",
    "    transforms.ToTensor(),  \n",
    "    transforms.Normalize((0.5,), (0.5,))  \n",
    "])  "
   ]
  },
  {
   "cell_type": "code",
   "execution_count": null,
   "metadata": {},
   "outputs": [],
   "source": [
    "#training_dataset = CustomDataset(training_dataset, transform=transform_train)  \n",
    "#validation_dataset_transformed = CustomDataset(validation_dataset, transform=transform_test_val)  \n",
    "#testing_dataset_transformed = CustomDataset(testing_dataset, transform=transform_test_val) "
   ]
  },
  {
   "cell_type": "code",
   "execution_count": null,
   "metadata": {},
   "outputs": [],
   "source": [
    "torch.manual_seed(RANDOM_SEED)\n",
    "\n",
    "batch_size = 64\n",
    "\n",
    "# Use the transformed dataset in your DataLoader  \n",
    "training_dataloader = DataLoader(  \n",
    "    training_dataset,  \n",
    "    batch_size=batch_size,   \n",
    "    shuffle=True,  \n",
    ")  \n",
    "\n",
    "validation_dataloader = DataLoader(\n",
    "    validation_dataset,\n",
    "    batch_size=batch_size, \n",
    "    shuffle=False,\n",
    ")\n",
    "\n",
    "testing_dataloader = DataLoader(\n",
    "    testing_dataset,\n",
    "    batch_size=batch_size, \n",
    "    shuffle=False,\n",
    ")"
   ]
  },
  {
   "cell_type": "markdown",
   "metadata": {
    "id": "sj5D68dSBj5d"
   },
   "source": [
    "# Training models and choosing the best one"
   ]
  },
  {
   "cell_type": "code",
   "execution_count": null,
   "metadata": {},
   "outputs": [],
   "source": [
    "best_model = train_and_select_best_model(training_dataloader, validation_dataloader, DEVICE, RANDOM_SEED)"
   ]
  },
  {
   "cell_type": "code",
   "execution_count": null,
   "metadata": {},
   "outputs": [],
   "source": [
    "best_model.eval()"
   ]
  },
  {
   "cell_type": "markdown",
   "metadata": {},
   "source": []
  },
  {
   "cell_type": "markdown",
   "metadata": {},
   "source": [
    "# Making test predictions"
   ]
  },
  {
   "cell_type": "code",
   "execution_count": null,
   "metadata": {},
   "outputs": [],
   "source": [
    "accuracy_test, predictions_test = evaluate_test_by_batch(\n",
    "    model=best_model, testing_dataloader=testing_dataloader\n",
    ")\n",
    "print(f\"Test accuracy: {accuracy_test:.4f}\")"
   ]
  },
  {
   "cell_type": "code",
   "execution_count": null,
   "metadata": {},
   "outputs": [],
   "source": [
    "nums = np.random.randint(low=0, high=x_test.shape[0], size=10)\n",
    "fig = plt.figure(figsize=(13, 5))\n",
    "for i, num in enumerate(nums):\n",
    "    ax = fig.add_subplot(2, 5, i + 1)\n",
    "    ax.set_xticks([]); ax.set_yticks([])\n",
    "    ax.imshow(x_test[num].numpy().reshape(28, 28), cmap=\"gray_r\")\n",
    "    ax.set_title(f\"True label = {y_test[num].int()} \\n Predicted label = {predictions_test[num]}\")\n",
    "plt.suptitle(\"Random 10 predictions for test set\", fontsize=20)\n",
    "plt.tight_layout()\n",
    "plt.show()"
   ]
  },
  {
   "cell_type": "code",
   "execution_count": null,
   "metadata": {},
   "outputs": [],
   "source": [
    "target_names = [\n",
    "    \"A\", \"B\", \"C\", \"D\", \"E\", \"F\", \n",
    "    \"G\", \"H\", \"I\", \"K\", \"L\", \"M\",\n",
    "    \"N\", \"O\", \"P\", \"Q\", \"R\", \"S\",\n",
    "    \"T\", \"U\", \"V\", \"W\", \"X\", \"Y\",\n",
    "]\n",
    "\n",
    "print(classification_report(\n",
    "    y_true=y_test, \n",
    "    y_pred=predictions_test, \n",
    "    target_names=target_names,\n",
    ")\n",
    "     )"
   ]
  },
  {
   "cell_type": "code",
   "execution_count": null,
   "metadata": {},
   "outputs": [],
   "source": [
    "save_whole_model(best_model, \"../model/sign_mnist_classifier.pt\")"
   ]
  }
 ],
 "metadata": {
  "accelerator": "GPU",
  "colab": {
   "authorship_tag": "ABX9TyNCz0WmVj4yOP7EkxyWaHIb",
   "gpuType": "T4",
   "include_colab_link": true,
   "provenance": []
  },
  "kernelspec": {
   "display_name": "ml_env",
   "language": "python",
   "name": "python3"
  },
  "language_info": {
   "codemirror_mode": {
    "name": "ipython",
    "version": 3
   },
   "file_extension": ".py",
   "mimetype": "text/x-python",
   "name": "python",
   "nbconvert_exporter": "python",
   "pygments_lexer": "ipython3",
   "version": "3.9.19"
  }
 },
 "nbformat": 4,
 "nbformat_minor": 0
}
